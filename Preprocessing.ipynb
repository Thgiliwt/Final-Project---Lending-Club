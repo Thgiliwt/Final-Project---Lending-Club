{
 "cells": [
  {
   "cell_type": "code",
   "execution_count": 3,
   "id": "7032dbda",
   "metadata": {
    "scrolled": true
   },
   "outputs": [
    {
     "name": "stdout",
     "output_type": "stream",
     "text": [
      "Collecting xlrdNote: you may need to restart the kernel to use updated packages.\n",
      "\n",
      "  Using cached xlrd-2.0.1-py2.py3-none-any.whl (96 kB)\n",
      "Installing collected packages: xlrd\n",
      "Successfully installed xlrd-2.0.1\n"
     ]
    }
   ],
   "source": [
    "pip install xlrd"
   ]
  },
  {
   "cell_type": "code",
   "execution_count": 11,
   "id": "9cd47872",
   "metadata": {},
   "outputs": [
    {
     "name": "stdout",
     "output_type": "stream",
     "text": [
      "Collecting openpyxl\n",
      "  Downloading openpyxl-3.0.9-py2.py3-none-any.whl (242 kB)\n",
      "Collecting et-xmlfile\n",
      "  Using cached et_xmlfile-1.1.0-py3-none-any.whl (4.7 kB)\n",
      "Installing collected packages: et-xmlfile, openpyxl\n",
      "Note: you may need to restart the kernel to use updated packages.\n",
      "Successfully installed et-xmlfile-1.1.0 openpyxl-3.0.9\n"
     ]
    }
   ],
   "source": [
    "pip install openpyxl"
   ]
  },
  {
   "cell_type": "code",
   "execution_count": 1,
   "id": "ea8fbb5a",
   "metadata": {},
   "outputs": [],
   "source": [
    "import pandas as pd\n",
    "import numpy as np\n",
    "import xlrd\n",
    "import openpyxl\n",
    "import os"
   ]
  },
  {
   "cell_type": "code",
   "execution_count": 2,
   "id": "55befe70",
   "metadata": {},
   "outputs": [],
   "source": [
    "pd.set_option('display.max_columns', None)\n",
    "pd.set_option('display.max_rows', None)"
   ]
  },
  {
   "cell_type": "code",
   "execution_count": 2,
   "id": "53b1921c",
   "metadata": {},
   "outputs": [
    {
     "data": {
      "text/html": [
       "<div>\n",
       "<style scoped>\n",
       "    .dataframe tbody tr th:only-of-type {\n",
       "        vertical-align: middle;\n",
       "    }\n",
       "\n",
       "    .dataframe tbody tr th {\n",
       "        vertical-align: top;\n",
       "    }\n",
       "\n",
       "    .dataframe thead th {\n",
       "        text-align: right;\n",
       "    }\n",
       "</style>\n",
       "<table border=\"1\" class=\"dataframe\">\n",
       "  <thead>\n",
       "    <tr style=\"text-align: right;\">\n",
       "      <th></th>\n",
       "      <th>loan_amnt</th>\n",
       "      <th>term</th>\n",
       "      <th>int_rate</th>\n",
       "      <th>installment</th>\n",
       "      <th>emp_length</th>\n",
       "      <th>home_ownership</th>\n",
       "      <th>annual_inc</th>\n",
       "      <th>verification_status</th>\n",
       "      <th>loan_status</th>\n",
       "      <th>purpose</th>\n",
       "      <th>dti</th>\n",
       "      <th>delinq_2yrs</th>\n",
       "      <th>inq_last_6mths</th>\n",
       "      <th>open_acc</th>\n",
       "      <th>pub_rec</th>\n",
       "      <th>revol_bal</th>\n",
       "      <th>revol_util</th>\n",
       "      <th>total_acc</th>\n",
       "      <th>pub_rec_bankruptcies</th>\n",
       "    </tr>\n",
       "  </thead>\n",
       "  <tbody>\n",
       "    <tr>\n",
       "      <th>0</th>\n",
       "      <td>2500</td>\n",
       "      <td>36 months</td>\n",
       "      <td>13.56</td>\n",
       "      <td>84.92</td>\n",
       "      <td>10+ years</td>\n",
       "      <td>RENT</td>\n",
       "      <td>55000.0</td>\n",
       "      <td>Not Verified</td>\n",
       "      <td>Current</td>\n",
       "      <td>debt_consolidation</td>\n",
       "      <td>18.24</td>\n",
       "      <td>0</td>\n",
       "      <td>1</td>\n",
       "      <td>9</td>\n",
       "      <td>1</td>\n",
       "      <td>4341</td>\n",
       "      <td>10.3</td>\n",
       "      <td>34</td>\n",
       "      <td>1</td>\n",
       "    </tr>\n",
       "    <tr>\n",
       "      <th>1</th>\n",
       "      <td>30000</td>\n",
       "      <td>60 months</td>\n",
       "      <td>18.94</td>\n",
       "      <td>777.23</td>\n",
       "      <td>10+ years</td>\n",
       "      <td>MORTGAGE</td>\n",
       "      <td>90000.0</td>\n",
       "      <td>Source Verified</td>\n",
       "      <td>Current</td>\n",
       "      <td>debt_consolidation</td>\n",
       "      <td>26.52</td>\n",
       "      <td>0</td>\n",
       "      <td>0</td>\n",
       "      <td>13</td>\n",
       "      <td>1</td>\n",
       "      <td>12315</td>\n",
       "      <td>24.2</td>\n",
       "      <td>44</td>\n",
       "      <td>1</td>\n",
       "    </tr>\n",
       "    <tr>\n",
       "      <th>2</th>\n",
       "      <td>5000</td>\n",
       "      <td>36 months</td>\n",
       "      <td>17.97</td>\n",
       "      <td>180.69</td>\n",
       "      <td>6 years</td>\n",
       "      <td>MORTGAGE</td>\n",
       "      <td>59280.0</td>\n",
       "      <td>Source Verified</td>\n",
       "      <td>Current</td>\n",
       "      <td>debt_consolidation</td>\n",
       "      <td>10.51</td>\n",
       "      <td>0</td>\n",
       "      <td>0</td>\n",
       "      <td>8</td>\n",
       "      <td>0</td>\n",
       "      <td>4599</td>\n",
       "      <td>19.1</td>\n",
       "      <td>13</td>\n",
       "      <td>0</td>\n",
       "    </tr>\n",
       "    <tr>\n",
       "      <th>3</th>\n",
       "      <td>4000</td>\n",
       "      <td>36 months</td>\n",
       "      <td>18.94</td>\n",
       "      <td>146.51</td>\n",
       "      <td>10+ years</td>\n",
       "      <td>MORTGAGE</td>\n",
       "      <td>92000.0</td>\n",
       "      <td>Source Verified</td>\n",
       "      <td>Current</td>\n",
       "      <td>debt_consolidation</td>\n",
       "      <td>16.74</td>\n",
       "      <td>0</td>\n",
       "      <td>0</td>\n",
       "      <td>10</td>\n",
       "      <td>0</td>\n",
       "      <td>5468</td>\n",
       "      <td>78.1</td>\n",
       "      <td>13</td>\n",
       "      <td>0</td>\n",
       "    </tr>\n",
       "    <tr>\n",
       "      <th>4</th>\n",
       "      <td>30000</td>\n",
       "      <td>60 months</td>\n",
       "      <td>16.14</td>\n",
       "      <td>731.78</td>\n",
       "      <td>10+ years</td>\n",
       "      <td>MORTGAGE</td>\n",
       "      <td>57250.0</td>\n",
       "      <td>Not Verified</td>\n",
       "      <td>Current</td>\n",
       "      <td>debt_consolidation</td>\n",
       "      <td>26.35</td>\n",
       "      <td>0</td>\n",
       "      <td>0</td>\n",
       "      <td>12</td>\n",
       "      <td>0</td>\n",
       "      <td>829</td>\n",
       "      <td>3.6</td>\n",
       "      <td>26</td>\n",
       "      <td>0</td>\n",
       "    </tr>\n",
       "  </tbody>\n",
       "</table>\n",
       "</div>"
      ],
      "text/plain": [
       "   loan_amnt        term  int_rate  installment emp_length home_ownership  \\\n",
       "0       2500   36 months     13.56        84.92  10+ years           RENT   \n",
       "1      30000   60 months     18.94       777.23  10+ years       MORTGAGE   \n",
       "2       5000   36 months     17.97       180.69    6 years       MORTGAGE   \n",
       "3       4000   36 months     18.94       146.51  10+ years       MORTGAGE   \n",
       "4      30000   60 months     16.14       731.78  10+ years       MORTGAGE   \n",
       "\n",
       "   annual_inc verification_status loan_status             purpose    dti  \\\n",
       "0     55000.0        Not Verified     Current  debt_consolidation  18.24   \n",
       "1     90000.0     Source Verified     Current  debt_consolidation  26.52   \n",
       "2     59280.0     Source Verified     Current  debt_consolidation  10.51   \n",
       "3     92000.0     Source Verified     Current  debt_consolidation  16.74   \n",
       "4     57250.0        Not Verified     Current  debt_consolidation  26.35   \n",
       "\n",
       "   delinq_2yrs  inq_last_6mths  open_acc  pub_rec  revol_bal  revol_util  \\\n",
       "0            0               1         9        1       4341        10.3   \n",
       "1            0               0        13        1      12315        24.2   \n",
       "2            0               0         8        0       4599        19.1   \n",
       "3            0               0        10        0       5468        78.1   \n",
       "4            0               0        12        0        829         3.6   \n",
       "\n",
       "   total_acc  pub_rec_bankruptcies  \n",
       "0         34                     1  \n",
       "1         44                     1  \n",
       "2         13                     0  \n",
       "3         13                     0  \n",
       "4         26                     0  "
      ]
     },
     "execution_count": 2,
     "metadata": {},
     "output_type": "execute_result"
    }
   ],
   "source": [
    "# as the dataset has more than 2 million of rows so we have pre-processed the dataset via Excel (poor computer performance \n",
    "# to handle such large file in python). We only keep data recorded in the year of 2018, all columns that have more than half\n",
    "# of the rows are 'NA' and all irrelevant columns which have no contribution to whether a loan should be given are removed.\n",
    "data = pd.read_excel('../loan_2018_preprocessed.xlsx',engine='openpyxl')\n",
    "\n",
    "data.head()"
   ]
  },
  {
   "cell_type": "code",
   "execution_count": 3,
   "id": "a09ebbda",
   "metadata": {
    "scrolled": true
   },
   "outputs": [
    {
     "name": "stdout",
     "output_type": "stream",
     "text": [
      "<class 'pandas.core.frame.DataFrame'>\n",
      "RangeIndex: 495242 entries, 0 to 495241\n",
      "Data columns (total 19 columns):\n",
      " #   Column                Non-Null Count   Dtype  \n",
      "---  ------                --------------   -----  \n",
      " 0   loan_amnt             495242 non-null  int64  \n",
      " 1   term                  495242 non-null  object \n",
      " 2   int_rate              495242 non-null  float64\n",
      " 3   installment           495242 non-null  float64\n",
      " 4   emp_length            453255 non-null  object \n",
      " 5   home_ownership        495242 non-null  object \n",
      " 6   annual_inc            495242 non-null  float64\n",
      " 7   verification_status   495242 non-null  object \n",
      " 8   loan_status           495242 non-null  object \n",
      " 9   purpose               495242 non-null  object \n",
      " 10  dti                   494110 non-null  float64\n",
      " 11  delinq_2yrs           495242 non-null  int64  \n",
      " 12  inq_last_6mths        495242 non-null  int64  \n",
      " 13  open_acc              495242 non-null  int64  \n",
      " 14  pub_rec               495242 non-null  int64  \n",
      " 15  revol_bal             495242 non-null  int64  \n",
      " 16  revol_util            494650 non-null  float64\n",
      " 17  total_acc             495242 non-null  int64  \n",
      " 18  pub_rec_bankruptcies  495242 non-null  int64  \n",
      "dtypes: float64(5), int64(8), object(6)\n",
      "memory usage: 71.8+ MB\n"
     ]
    }
   ],
   "source": [
    "data.info()"
   ]
  },
  {
   "cell_type": "code",
   "execution_count": 8,
   "id": "b5491fe5",
   "metadata": {
    "scrolled": true
   },
   "outputs": [
    {
     "name": "stdout",
     "output_type": "stream",
     "text": [
      "loan_amnt 1559\n",
      "term 2\n",
      "int_rate 110\n",
      "installment 35297\n",
      "emp_length 11\n",
      "home_ownership 4\n",
      "annual_inc 30071\n",
      "verification_status 3\n",
      "loan_status 7\n",
      "purpose 13\n",
      "dti 9464\n",
      "delinq_2yrs 26\n",
      "inq_last_6mths 6\n",
      "open_acc 76\n",
      "pub_rec 16\n",
      "revol_bal 64413\n",
      "revol_util 1136\n",
      "total_acc 130\n",
      "pub_rec_bankruptcies 8\n"
     ]
    }
   ],
   "source": [
    "# check if any columns has only 1 value, such columns will not conribute to a classification model.\n",
    "for col in data.columns:\n",
    "    col_val = data[col].dropna().unique()\n",
    "    print(col,len(col_val))"
   ]
  },
  {
   "cell_type": "code",
   "execution_count": 9,
   "id": "60d74fb3",
   "metadata": {
    "scrolled": true
   },
   "outputs": [
    {
     "name": "stdout",
     "output_type": "stream",
     "text": [
      "loan_amnt                   0\n",
      "term                        0\n",
      "int_rate                    0\n",
      "installment                 0\n",
      "emp_length              41987\n",
      "home_ownership              0\n",
      "annual_inc                  0\n",
      "verification_status         0\n",
      "loan_status                 0\n",
      "purpose                     0\n",
      "dti                      1132\n",
      "delinq_2yrs                 0\n",
      "inq_last_6mths              0\n",
      "open_acc                    0\n",
      "pub_rec                     0\n",
      "revol_bal                   0\n",
      "revol_util                592\n",
      "total_acc                   0\n",
      "pub_rec_bankruptcies        0\n",
      "dtype: int64\n"
     ]
    }
   ],
   "source": [
    "# check the missing values. As the dataset still has about 500K of rows for the missing rows in a column is less \n",
    "# than 10K then it will be removed, otherwise we will fill the missing value.\n",
    "null_count = data.isnull().sum()\n",
    "print(null_count)"
   ]
  },
  {
   "cell_type": "code",
   "execution_count": 20,
   "id": "cc6c8e52",
   "metadata": {},
   "outputs": [
    {
     "data": {
      "text/plain": [
       "array(['10+ years', '6 years', '4 years', '< 1 year', '2 years',\n",
       "       '9 years', nan, '5 years', '3 years', '7 years', '1 year',\n",
       "       '8 years'], dtype=object)"
      ]
     },
     "execution_count": 20,
     "metadata": {},
     "output_type": "execute_result"
    }
   ],
   "source": [
    "# as the value of '10+ years' appereared the most so we will fill in using this value.\n",
    "data.emp_length.unique()"
   ]
  },
  {
   "cell_type": "code",
   "execution_count": 14,
   "id": "724ebe08",
   "metadata": {},
   "outputs": [
    {
     "data": {
      "text/plain": [
       "10+ years    160382\n",
       "2 years       44747\n",
       "< 1 year      43627\n",
       "3 years       40629\n",
       "1 year        33167\n",
       "4 years       31262\n",
       "5 years       30854\n",
       "6 years       21977\n",
       "7 years       17961\n",
       "8 years       16027\n",
       "9 years       12622\n",
       "Name: emp_length, dtype: int64"
      ]
     },
     "execution_count": 14,
     "metadata": {},
     "output_type": "execute_result"
    }
   ],
   "source": [
    "# the 'nan' or 'n/a' values will be filled by using the value which has occured the most below.\n",
    "data.emp_length.value_counts()"
   ]
  },
  {
   "cell_type": "code",
   "execution_count": 22,
   "id": "a8a15dfd",
   "metadata": {},
   "outputs": [
    {
     "data": {
      "text/plain": [
       "array(['10+ years', '6 years', '< 1 year', '2 years', '4 years',\n",
       "       '9 years', '5 years', '3 years', '7 years', '1 year', '8 years'],\n",
       "      dtype=object)"
      ]
     },
     "execution_count": 22,
     "metadata": {},
     "output_type": "execute_result"
    }
   ],
   "source": [
    "d1 = data.fillna({'emp_length':data['emp_length'].mode()[0]})\n",
    "d1 = d1.dropna(axis=0)\n",
    "\n",
    "d1.emp_length.unique()"
   ]
  },
  {
   "cell_type": "code",
   "execution_count": 23,
   "id": "041c692d",
   "metadata": {},
   "outputs": [
    {
     "data": {
      "text/plain": [
       "loan_amnt               0\n",
       "term                    0\n",
       "int_rate                0\n",
       "installment             0\n",
       "emp_length              0\n",
       "home_ownership          0\n",
       "annual_inc              0\n",
       "verification_status     0\n",
       "loan_status             0\n",
       "purpose                 0\n",
       "dti                     0\n",
       "delinq_2yrs             0\n",
       "inq_last_6mths          0\n",
       "open_acc                0\n",
       "pub_rec                 0\n",
       "revol_bal               0\n",
       "revol_util              0\n",
       "total_acc               0\n",
       "pub_rec_bankruptcies    0\n",
       "dtype: int64"
      ]
     },
     "execution_count": 23,
     "metadata": {},
     "output_type": "execute_result"
    }
   ],
   "source": [
    "d1.isnull().sum()"
   ]
  },
  {
   "cell_type": "code",
   "execution_count": 18,
   "id": "986b4fb0",
   "metadata": {},
   "outputs": [
    {
     "data": {
      "text/plain": [
       "int64      8\n",
       "object     6\n",
       "float64    5\n",
       "dtype: int64"
      ]
     },
     "execution_count": 18,
     "metadata": {},
     "output_type": "execute_result"
    }
   ],
   "source": [
    "d1.dtypes.value_counts()"
   ]
  },
  {
   "cell_type": "code",
   "execution_count": 19,
   "id": "eece4bd7",
   "metadata": {},
   "outputs": [
    {
     "data": {
      "text/plain": [
       "term                            36 months\n",
       "emp_length                      10+ years\n",
       "home_ownership                       RENT\n",
       "verification_status          Not Verified\n",
       "loan_status                       Current\n",
       "purpose                debt_consolidation\n",
       "Name: 0, dtype: object"
      ]
     },
     "execution_count": 19,
     "metadata": {},
     "output_type": "execute_result"
    }
   ],
   "source": [
    "object_col = d1.select_dtypes(include=['object'])\n",
    "\n",
    "object_col.iloc[0]"
   ]
  },
  {
   "cell_type": "code",
   "execution_count": 24,
   "id": "3275f3ea",
   "metadata": {},
   "outputs": [
    {
     "data": {
      "text/plain": [
       "array([10,  6,  0,  2,  4,  9,  5,  3,  7,  1,  8], dtype=int64)"
      ]
     },
     "execution_count": 24,
     "metadata": {},
     "output_type": "execute_result"
    }
   ],
   "source": [
    "convert_emp_length_dict = {\n",
    "    'emp_length':{\n",
    "        '10+ years':10,\n",
    "        '9 years':9,\n",
    "        '8 years':8,\n",
    "        '7 years':7,\n",
    "        '6 years':6,\n",
    "        '5 years':5,\n",
    "        '4 years':4,\n",
    "        '3 years':3,\n",
    "        '2 years':2,\n",
    "        '1 year' :1,\n",
    "        '< 1 year':0\n",
    "    }\n",
    "}\n",
    "\n",
    "d1 = d1.replace(convert_emp_length_dict)\n",
    "\n",
    "d1.emp_length.unique()"
   ]
  },
  {
   "cell_type": "code",
   "execution_count": 26,
   "id": "6a61fb16",
   "metadata": {},
   "outputs": [
    {
     "data": {
      "text/plain": [
       "Current               435814\n",
       "Fully Paid             40093\n",
       "Charged Off             6914\n",
       "Late (31-120 days)      6483\n",
       "In Grace Period         2893\n",
       "Late (16-30 days)       1314\n",
       "Default                    9\n",
       "Name: loan_status, dtype: int64"
      ]
     },
     "execution_count": 26,
     "metadata": {},
     "output_type": "execute_result"
    }
   ],
   "source": [
    "# loan_status is our output value and we only interest in whether a loan is fully paid (meaning approval) or \n",
    "# charged off (meaning default), any other value will be ignored.\n",
    "\n",
    "d1.loan_status.value_counts()"
   ]
  },
  {
   "cell_type": "code",
   "execution_count": 33,
   "id": "f2a51e84",
   "metadata": {},
   "outputs": [
    {
     "data": {
      "text/plain": [
       "array([1, 0], dtype=int64)"
      ]
     },
     "execution_count": 33,
     "metadata": {},
     "output_type": "execute_result"
    }
   ],
   "source": [
    "d2 = d1.loc[(d1['loan_status']=='Fully Paid')|(d1['loan_status']=='Charged Off')]\n",
    "\n",
    "convert_loan_status_dict = {\n",
    "    'loan_status':{\n",
    "        'Fully Paid':1,\n",
    "        'Charged Off':0\n",
    "    }\n",
    "}\n",
    "\n",
    "d2 = d2.replace(convert_loan_status_dict)\n",
    "\n",
    "d2.loan_status.unique()"
   ]
  },
  {
   "cell_type": "code",
   "execution_count": 38,
   "id": "a2c745b1",
   "metadata": {},
   "outputs": [],
   "source": [
    "from sklearn.preprocessing import LabelEncoder"
   ]
  },
  {
   "cell_type": "code",
   "execution_count": 45,
   "id": "1822a3aa",
   "metadata": {},
   "outputs": [
    {
     "name": "stdout",
     "output_type": "stream",
     "text": [
      "[' 36 months', ' 60 months'],[0 1]\n",
      "['MORTGAGE', 'RENT', 'OWN', 'ANY'],[1 3 2 0]\n",
      "['Source Verified', 'Verified', 'Not Verified'],[1 2 0]\n",
      "['debt_consolidation', 'credit_card', 'other', 'house', 'car', 'home_improvement', 'moving', 'small_business', 'vacation', 'medical', 'major_purchase', 'renewable_energy', 'wedding'],[ 2  1  8  4  0  3  7 10 11  6  5  9 12]\n"
     ]
    },
    {
     "name": "stderr",
     "output_type": "stream",
     "text": [
      "C:\\Users\\Matt\\anaconda3\\envs\\PythonAdv\\lib\\site-packages\\ipykernel_launcher.py:10: SettingWithCopyWarning: \n",
      "A value is trying to be set on a copy of a slice from a DataFrame.\n",
      "Try using .loc[row_indexer,col_indexer] = value instead\n",
      "\n",
      "See the caveats in the documentation: https://pandas.pydata.org/pandas-docs/stable/user_guide/indexing.html#returning-a-view-versus-a-copy\n",
      "  # Remove the CWD from sys.path while we load stuff.\n"
     ]
    }
   ],
   "source": [
    "lbe = LabelEncoder()\n",
    "\n",
    "cat_columns = ['term','home_ownership','verification_status','purpose']\n",
    "\n",
    "d3 = d2[cat_columns]\n",
    "\n",
    "for col in d3.columns:\n",
    "    val = d3[col].unique().tolist()\n",
    "    lbe.fit(val)\n",
    "    d3[col]=lbe.transform(d3[col])\n",
    "    print(f\"{val},{lbe.fit_transform(val)}\")"
   ]
  },
  {
   "cell_type": "code",
   "execution_count": 54,
   "id": "5b402afe",
   "metadata": {},
   "outputs": [
    {
     "name": "stdout",
     "output_type": "stream",
     "text": [
      "<class 'pandas.core.frame.DataFrame'>\n",
      "Int64Index: 47007 entries, 100 to 495241\n",
      "Data columns (total 19 columns):\n",
      " #   Column                Non-Null Count  Dtype  \n",
      "---  ------                --------------  -----  \n",
      " 0   loan_amnt             47007 non-null  int64  \n",
      " 1   int_rate              47007 non-null  float64\n",
      " 2   installment           47007 non-null  float64\n",
      " 3   emp_length            47007 non-null  int64  \n",
      " 4   annual_inc            47007 non-null  float64\n",
      " 5   loan_status           47007 non-null  int64  \n",
      " 6   dti                   47007 non-null  float64\n",
      " 7   delinq_2yrs           47007 non-null  int64  \n",
      " 8   inq_last_6mths        47007 non-null  int64  \n",
      " 9   open_acc              47007 non-null  int64  \n",
      " 10  pub_rec               47007 non-null  int64  \n",
      " 11  revol_bal             47007 non-null  int64  \n",
      " 12  revol_util            47007 non-null  float64\n",
      " 13  total_acc             47007 non-null  int64  \n",
      " 14  pub_rec_bankruptcies  47007 non-null  int64  \n",
      " 15  term                  47007 non-null  int32  \n",
      " 16  home_ownership        47007 non-null  int32  \n",
      " 17  verification_status   47007 non-null  int32  \n",
      " 18  purpose               47007 non-null  int32  \n",
      "dtypes: float64(5), int32(4), int64(10)\n",
      "memory usage: 6.5 MB\n"
     ]
    }
   ],
   "source": [
    "d4 = d2.drop(cat_columns,axis=1)\n",
    "\n",
    "d4 = pd.concat([d4,d3],axis=1)\n",
    "\n",
    "d4.info()"
   ]
  },
  {
   "cell_type": "code",
   "execution_count": 55,
   "id": "5ca526c3",
   "metadata": {},
   "outputs": [
    {
     "data": {
      "text/plain": [
       "0"
      ]
     },
     "execution_count": 55,
     "metadata": {},
     "output_type": "execute_result"
    }
   ],
   "source": [
    "d4.duplicated().sum()"
   ]
  },
  {
   "cell_type": "code",
   "execution_count": 56,
   "id": "493d487d",
   "metadata": {},
   "outputs": [],
   "source": [
    "d4.reset_index(drop=True)\n",
    "\n",
    "d4.to_csv('cleaned_loan.csv',index=False)"
   ]
  },
  {
   "cell_type": "code",
   "execution_count": null,
   "id": "6ec075a5",
   "metadata": {},
   "outputs": [],
   "source": []
  }
 ],
 "metadata": {
  "kernelspec": {
   "display_name": "Python [conda env:PythonAdv] *",
   "language": "python",
   "name": "conda-env-PythonAdv-py"
  },
  "language_info": {
   "codemirror_mode": {
    "name": "ipython",
    "version": 3
   },
   "file_extension": ".py",
   "mimetype": "text/x-python",
   "name": "python",
   "nbconvert_exporter": "python",
   "pygments_lexer": "ipython3",
   "version": "3.6.13"
  }
 },
 "nbformat": 4,
 "nbformat_minor": 5
}
