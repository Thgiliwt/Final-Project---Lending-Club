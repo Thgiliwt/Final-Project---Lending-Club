{
 "cells": [
  {
   "cell_type": "raw",
   "id": "37964260",
   "metadata": {},
   "source": [
    "RandomForestClassifier"
   ]
  },
  {
   "cell_type": "code",
   "execution_count": 1,
   "id": "04093b24",
   "metadata": {},
   "outputs": [],
   "source": [
    "import pandas as pd\n",
    "import numpy as np\n",
    "import pandas\n",
    "import xlrd\n",
    "import openpyxl\n",
    "import os\n",
    "import pickle, joblib\n",
    "\n",
    "import matplotlib.pyplot as plt\n",
    "from sklearn.tree import DecisionTreeClassifier\n",
    "from sklearn.ensemble import RandomForestClassifier\n",
    "from sklearn.model_selection import cross_val_score\n",
    "from sklearn.model_selection import GridSearchCV\n",
    "%matplotlib inline"
   ]
  },
  {
   "cell_type": "code",
   "execution_count": 2,
   "id": "9e63412e",
   "metadata": {},
   "outputs": [],
   "source": [
    "np.random.seed(41)"
   ]
  },
  {
   "cell_type": "code",
   "execution_count": 3,
   "id": "1eb5dce7",
   "metadata": {},
   "outputs": [],
   "source": [
    "pd.set_option('display.max_columns', None)\n",
    "pd.set_option('display.max_rows', None)"
   ]
  },
  {
   "cell_type": "code",
   "execution_count": 4,
   "id": "935cc7ad",
   "metadata": {
    "scrolled": true
   },
   "outputs": [
    {
     "name": "stderr",
     "output_type": "stream",
     "text": [
      "C:\\Users\\mailr\\anaconda3\\envs\\PythonAdv\\lib\\site-packages\\pandas\\core\\indexing.py:1715: SettingWithCopyWarning: \n",
      "A value is trying to be set on a copy of a slice from a DataFrame.\n",
      "Try using .loc[row_indexer,col_indexer] = value instead\n",
      "\n",
      "See the caveats in the documentation: https://pandas.pydata.org/pandas-docs/stable/user_guide/indexing.html#returning-a-view-versus-a-copy\n",
      "  isetter(loc, v)\n"
     ]
    },
    {
     "data": {
      "text/html": [
       "<div>\n",
       "<style scoped>\n",
       "    .dataframe tbody tr th:only-of-type {\n",
       "        vertical-align: middle;\n",
       "    }\n",
       "\n",
       "    .dataframe tbody tr th {\n",
       "        vertical-align: top;\n",
       "    }\n",
       "\n",
       "    .dataframe thead th {\n",
       "        text-align: right;\n",
       "    }\n",
       "</style>\n",
       "<table border=\"1\" class=\"dataframe\">\n",
       "  <thead>\n",
       "    <tr style=\"text-align: right;\">\n",
       "      <th></th>\n",
       "      <th>loan_amnt</th>\n",
       "      <th>int_rate</th>\n",
       "      <th>emp_length</th>\n",
       "      <th>annual_inc</th>\n",
       "      <th>loan_status</th>\n",
       "      <th>home_ownership</th>\n",
       "      <th>purpose</th>\n",
       "      <th>term</th>\n",
       "    </tr>\n",
       "  </thead>\n",
       "  <tbody>\n",
       "    <tr>\n",
       "      <th>0</th>\n",
       "      <td>30000</td>\n",
       "      <td>22</td>\n",
       "      <td>5</td>\n",
       "      <td>100000</td>\n",
       "      <td>1</td>\n",
       "      <td>1</td>\n",
       "      <td>2</td>\n",
       "      <td>0</td>\n",
       "    </tr>\n",
       "    <tr>\n",
       "      <th>1</th>\n",
       "      <td>40000</td>\n",
       "      <td>16</td>\n",
       "      <td>0</td>\n",
       "      <td>45000</td>\n",
       "      <td>1</td>\n",
       "      <td>1</td>\n",
       "      <td>1</td>\n",
       "      <td>1</td>\n",
       "    </tr>\n",
       "    <tr>\n",
       "      <th>2</th>\n",
       "      <td>20000</td>\n",
       "      <td>7</td>\n",
       "      <td>10</td>\n",
       "      <td>100000</td>\n",
       "      <td>1</td>\n",
       "      <td>1</td>\n",
       "      <td>1</td>\n",
       "      <td>0</td>\n",
       "    </tr>\n",
       "    <tr>\n",
       "      <th>3</th>\n",
       "      <td>4500</td>\n",
       "      <td>11</td>\n",
       "      <td>10</td>\n",
       "      <td>38500</td>\n",
       "      <td>1</td>\n",
       "      <td>3</td>\n",
       "      <td>1</td>\n",
       "      <td>0</td>\n",
       "    </tr>\n",
       "    <tr>\n",
       "      <th>4</th>\n",
       "      <td>8425</td>\n",
       "      <td>27</td>\n",
       "      <td>3</td>\n",
       "      <td>450000</td>\n",
       "      <td>1</td>\n",
       "      <td>1</td>\n",
       "      <td>1</td>\n",
       "      <td>0</td>\n",
       "    </tr>\n",
       "  </tbody>\n",
       "</table>\n",
       "</div>"
      ],
      "text/plain": [
       "   loan_amnt  int_rate  emp_length  annual_inc  loan_status  home_ownership  \\\n",
       "0      30000        22           5      100000            1               1   \n",
       "1      40000        16           0       45000            1               1   \n",
       "2      20000         7          10      100000            1               1   \n",
       "3       4500        11          10       38500            1               3   \n",
       "4       8425        27           3      450000            1               1   \n",
       "\n",
       "   purpose  term  \n",
       "0        2     0  \n",
       "1        1     1  \n",
       "2        1     0  \n",
       "3        1     0  \n",
       "4        1     0  "
      ]
     },
     "execution_count": 4,
     "metadata": {},
     "output_type": "execute_result"
    }
   ],
   "source": [
    "df_pre= pd.read_csv('cleaned_loan.csv')\n",
    "\n",
    "df = df_pre[['loan_amnt','int_rate','emp_length','annual_inc','loan_status','home_ownership','purpose','term']]\n",
    "df.iloc[:,[1,3]]=df.iloc[:,[1,3]].astype(int)\n",
    "df.head()\n"
   ]
  },
  {
   "cell_type": "code",
   "execution_count": 5,
   "id": "74b43e78",
   "metadata": {},
   "outputs": [
    {
     "name": "stdout",
     "output_type": "stream",
     "text": [
      "<class 'pandas.core.frame.DataFrame'>\n",
      "RangeIndex: 47007 entries, 0 to 47006\n",
      "Data columns (total 8 columns):\n",
      " #   Column          Non-Null Count  Dtype\n",
      "---  ------          --------------  -----\n",
      " 0   loan_amnt       47007 non-null  int64\n",
      " 1   int_rate        47007 non-null  int32\n",
      " 2   emp_length      47007 non-null  int64\n",
      " 3   annual_inc      47007 non-null  int32\n",
      " 4   loan_status     47007 non-null  int64\n",
      " 5   home_ownership  47007 non-null  int64\n",
      " 6   purpose         47007 non-null  int64\n",
      " 7   term            47007 non-null  int64\n",
      "dtypes: int32(2), int64(6)\n",
      "memory usage: 2.5 MB\n"
     ]
    }
   ],
   "source": [
    "df.info()\n"
   ]
  },
  {
   "cell_type": "code",
   "execution_count": 6,
   "id": "d068bc4c",
   "metadata": {},
   "outputs": [
    {
     "data": {
      "text/plain": [
       "2     23894\n",
       "1      9382\n",
       "8      4559\n",
       "3      3812\n",
       "5      1524\n",
       "6       904\n",
       "4       860\n",
       "0       677\n",
       "10      489\n",
       "11      451\n",
       "7       423\n",
       "9        30\n",
       "12        2\n",
       "Name: purpose, dtype: int64"
      ]
     },
     "execution_count": 6,
     "metadata": {},
     "output_type": "execute_result"
    }
   ],
   "source": [
    "df.purpose.value_counts()"
   ]
  },
  {
   "cell_type": "code",
   "execution_count": 7,
   "id": "94856af8",
   "metadata": {},
   "outputs": [
    {
     "data": {
      "text/html": [
       "<div>\n",
       "<style scoped>\n",
       "    .dataframe tbody tr th:only-of-type {\n",
       "        vertical-align: middle;\n",
       "    }\n",
       "\n",
       "    .dataframe tbody tr th {\n",
       "        vertical-align: top;\n",
       "    }\n",
       "\n",
       "    .dataframe thead th {\n",
       "        text-align: right;\n",
       "    }\n",
       "</style>\n",
       "<table border=\"1\" class=\"dataframe\">\n",
       "  <thead>\n",
       "    <tr style=\"text-align: right;\">\n",
       "      <th></th>\n",
       "      <th>loan_amnt</th>\n",
       "      <th>int_rate</th>\n",
       "      <th>emp_length</th>\n",
       "      <th>annual_inc</th>\n",
       "      <th>loan_status</th>\n",
       "      <th>home_ownership</th>\n",
       "      <th>purpose</th>\n",
       "      <th>term</th>\n",
       "    </tr>\n",
       "  </thead>\n",
       "  <tbody>\n",
       "    <tr>\n",
       "      <th>count</th>\n",
       "      <td>47007.000000</td>\n",
       "      <td>47007.000000</td>\n",
       "      <td>47007.000000</td>\n",
       "      <td>4.700700e+04</td>\n",
       "      <td>47007.000000</td>\n",
       "      <td>47007.000000</td>\n",
       "      <td>47007.000000</td>\n",
       "      <td>47007.000000</td>\n",
       "    </tr>\n",
       "    <tr>\n",
       "      <th>mean</th>\n",
       "      <td>14935.434084</td>\n",
       "      <td>12.955879</td>\n",
       "      <td>6.305572</td>\n",
       "      <td>8.001621e+04</td>\n",
       "      <td>0.852916</td>\n",
       "      <td>1.848278</td>\n",
       "      <td>2.864850</td>\n",
       "      <td>0.271130</td>\n",
       "    </tr>\n",
       "    <tr>\n",
       "      <th>std</th>\n",
       "      <td>10164.850522</td>\n",
       "      <td>5.513847</td>\n",
       "      <td>3.723621</td>\n",
       "      <td>7.756004e+04</td>\n",
       "      <td>0.354194</td>\n",
       "      <td>0.918241</td>\n",
       "      <td>2.336235</td>\n",
       "      <td>0.444548</td>\n",
       "    </tr>\n",
       "    <tr>\n",
       "      <th>min</th>\n",
       "      <td>1000.000000</td>\n",
       "      <td>5.000000</td>\n",
       "      <td>0.000000</td>\n",
       "      <td>3.300000e+01</td>\n",
       "      <td>0.000000</td>\n",
       "      <td>0.000000</td>\n",
       "      <td>0.000000</td>\n",
       "      <td>0.000000</td>\n",
       "    </tr>\n",
       "    <tr>\n",
       "      <th>25%</th>\n",
       "      <td>7000.000000</td>\n",
       "      <td>9.000000</td>\n",
       "      <td>3.000000</td>\n",
       "      <td>4.750000e+04</td>\n",
       "      <td>1.000000</td>\n",
       "      <td>1.000000</td>\n",
       "      <td>2.000000</td>\n",
       "      <td>0.000000</td>\n",
       "    </tr>\n",
       "    <tr>\n",
       "      <th>50%</th>\n",
       "      <td>12000.000000</td>\n",
       "      <td>12.000000</td>\n",
       "      <td>7.000000</td>\n",
       "      <td>6.700000e+04</td>\n",
       "      <td>1.000000</td>\n",
       "      <td>1.000000</td>\n",
       "      <td>2.000000</td>\n",
       "      <td>0.000000</td>\n",
       "    </tr>\n",
       "    <tr>\n",
       "      <th>75%</th>\n",
       "      <td>20000.000000</td>\n",
       "      <td>16.000000</td>\n",
       "      <td>10.000000</td>\n",
       "      <td>9.500000e+04</td>\n",
       "      <td>1.000000</td>\n",
       "      <td>3.000000</td>\n",
       "      <td>3.000000</td>\n",
       "      <td>1.000000</td>\n",
       "    </tr>\n",
       "    <tr>\n",
       "      <th>max</th>\n",
       "      <td>40000.000000</td>\n",
       "      <td>30.000000</td>\n",
       "      <td>10.000000</td>\n",
       "      <td>9.300000e+06</td>\n",
       "      <td>1.000000</td>\n",
       "      <td>3.000000</td>\n",
       "      <td>12.000000</td>\n",
       "      <td>1.000000</td>\n",
       "    </tr>\n",
       "  </tbody>\n",
       "</table>\n",
       "</div>"
      ],
      "text/plain": [
       "          loan_amnt      int_rate    emp_length    annual_inc   loan_status  \\\n",
       "count  47007.000000  47007.000000  47007.000000  4.700700e+04  47007.000000   \n",
       "mean   14935.434084     12.955879      6.305572  8.001621e+04      0.852916   \n",
       "std    10164.850522      5.513847      3.723621  7.756004e+04      0.354194   \n",
       "min     1000.000000      5.000000      0.000000  3.300000e+01      0.000000   \n",
       "25%     7000.000000      9.000000      3.000000  4.750000e+04      1.000000   \n",
       "50%    12000.000000     12.000000      7.000000  6.700000e+04      1.000000   \n",
       "75%    20000.000000     16.000000     10.000000  9.500000e+04      1.000000   \n",
       "max    40000.000000     30.000000     10.000000  9.300000e+06      1.000000   \n",
       "\n",
       "       home_ownership       purpose          term  \n",
       "count    47007.000000  47007.000000  47007.000000  \n",
       "mean         1.848278      2.864850      0.271130  \n",
       "std          0.918241      2.336235      0.444548  \n",
       "min          0.000000      0.000000      0.000000  \n",
       "25%          1.000000      2.000000      0.000000  \n",
       "50%          1.000000      2.000000      0.000000  \n",
       "75%          3.000000      3.000000      1.000000  \n",
       "max          3.000000     12.000000      1.000000  "
      ]
     },
     "execution_count": 7,
     "metadata": {},
     "output_type": "execute_result"
    }
   ],
   "source": [
    "df.describe()\n"
   ]
  },
  {
   "cell_type": "code",
   "execution_count": 8,
   "id": "84be3b75",
   "metadata": {},
   "outputs": [],
   "source": [
    "from sklearn.model_selection import train_test_split\n",
    "y = df[[\"loan_status\"]]\n",
    "X = df.drop(columns=[\"loan_status\"])\n",
    "\n",
    "X_train, X_test, y_train, y_test = train_test_split(X, y, test_size=0.3)"
   ]
  },
  {
   "cell_type": "code",
   "execution_count": 9,
   "id": "c6c690d2",
   "metadata": {},
   "outputs": [
    {
     "data": {
      "text/plain": [
       "loan_status\n",
       "1              40093\n",
       "0               6914\n",
       "dtype: int64"
      ]
     },
     "execution_count": 9,
     "metadata": {},
     "output_type": "execute_result"
    }
   ],
   "source": [
    "y.value_counts()"
   ]
  },
  {
   "cell_type": "code",
   "execution_count": 10,
   "id": "4afca0ca",
   "metadata": {},
   "outputs": [],
   "source": [
    "from sklearn.preprocessing import StandardScaler\n",
    "\n",
    "# Create a StandardScater model and fit and transform it to the training data\n",
    "scaler = StandardScaler()\n",
    "X_train_scaled = scaler.fit_transform(X_train)\n",
    "X_test_scaled = scaler.fit_transform(X_train)\n"
   ]
  },
  {
   "cell_type": "code",
   "execution_count": 13,
   "id": "8e4b4cbb",
   "metadata": {},
   "outputs": [
    {
     "data": {
      "text/plain": [
       "array([[-0.38931987, -0.35289856, -0.34728666, ...,  1.2529416 ,\n",
       "        -0.36915831, -0.61158346],\n",
       "       [-0.29107222, -0.71573816,  0.99654289, ...,  0.1641005 ,\n",
       "         0.06011738, -0.61158346],\n",
       "       [ 1.67388061,  1.09845983, -1.69111621, ...,  1.2529416 ,\n",
       "         0.91866877,  1.63509982],\n",
       "       ...,\n",
       "       [ 1.67388061,  0.00994104,  0.99654289, ..., -0.92474059,\n",
       "        -0.36915831,  1.63509982],\n",
       "       [-0.97880572, -0.89715795, -0.88481848, ...,  1.2529416 ,\n",
       "         2.20649585, -0.61158346],\n",
       "       [-1.27354864, -0.71573816,  0.19024516, ...,  1.2529416 ,\n",
       "         1.77722016, -0.61158346]])"
      ]
     },
     "execution_count": 13,
     "metadata": {},
     "output_type": "execute_result"
    }
   ],
   "source": [
    "X_train_scaled\n"
   ]
  },
  {
   "cell_type": "code",
   "execution_count": 11,
   "id": "3818e808",
   "metadata": {},
   "outputs": [],
   "source": [
    "# saving scaler to current directory\n",
    "pickle.dump(scaler, open('scaler.pkl','wb'))"
   ]
  },
  {
   "cell_type": "code",
   "execution_count": 18,
   "id": "e7c68a03",
   "metadata": {},
   "outputs": [
    {
     "name": "stdout",
     "output_type": "stream",
     "text": [
      "ramdom Forest score:0.8413812663972204\n"
     ]
    }
   ],
   "source": [
    "#basic model, set only parameters: random_state=41 and class_weight\n",
    "rfc=RandomForestClassifier(random_state=41)\n",
    "rfc=rfc.fit(X_train, y_train.values.ravel())\n",
    "score_rfc=rfc.score(X_test,y_test)\n",
    "print(\"ramdom Forest score:{}\".format(score_rfc))"
   ]
  },
  {
   "cell_type": "code",
   "execution_count": 37,
   "id": "e447c8c8",
   "metadata": {},
   "outputs": [
    {
     "name": "stdout",
     "output_type": "stream",
     "text": [
      "0.8529155272531421\n"
     ]
    },
    {
     "data": {
      "image/png": "[encoded data removed]",
      "text/plain": [
       "<Figure size 432x288 with 1 Axes>"
      ]
     },
     "metadata": {
      "needs_background": "light"
     },
     "output_type": "display_data"
    }
   ],
   "source": [
    "tr = []\n",
    "te = []\n",
    "for i in range(10):\n",
    "    clf = RandomForestClassifier(random_state=41\n",
    "                                 ,max_depth=i+1\n",
    "                                 ,criterion=\"gini\"\n",
    "                               )\n",
    "    clf = clf.fit(X_train_scaled, y_train.values.ravel())\n",
    "    score_tr = clf.score(X_train_scaled, y_train.values.ravel())\n",
    "    score_te = cross_val_score(clf,X,y.values.ravel(),cv=10).mean()\n",
    "    tr.append(score_tr)\n",
    "    te.append(score_te)\n",
    "print(max(te))\n",
    "plt.plot(range(1,11),tr,color=\"red\",label=\"train\")\n",
    "plt.plot(range(1,11),te,color=\"blue\",label=\"test\")\n",
    "plt.xticks(range(1,11))\n",
    "plt.legend()\n",
    "plt.show()"
   ]
  },
  {
   "cell_type": "code",
   "execution_count": 38,
   "id": "f57291d8",
   "metadata": {},
   "outputs": [
    {
     "name": "stdout",
     "output_type": "stream",
     "text": [
      "Fitting 5 folds for each of 192 candidates, totalling 960 fits\n",
      "{'max_depth': 4, 'max_leaf_nodes': 2, 'min_samples_leaf': 1, 'n_estimators': 50, 'n_jobs': -1, 'random_state': 41}\n"
     ]
    }
   ],
   "source": [
    "# import GridSerachCV to search for the best parameters combination\n",
    "# test1\n",
    "from sklearn.model_selection import GridSearchCV\n",
    "params1 = {'n_estimators': [50,100,500],'max_depth':[4,5,6,7],'max_leaf_nodes':[2,4,5,20], \"min_samples_leaf\":[1,2,4,20],'random_state':[41], \"n_jobs\":[-1]}\n",
    "grid = GridSearchCV(RandomForestClassifier(),params1,refit=True,verbose=1)\n",
    "grid.fit(X_train_scaled,y_train.values.ravel())\n",
    "print(grid.best_params_)\n"
   ]
  },
  {
   "cell_type": "code",
   "execution_count": 39,
   "id": "0131d595",
   "metadata": {},
   "outputs": [
    {
     "name": "stdout",
     "output_type": "stream",
     "text": [
      "ramdom scaled Forest score:0.853009997872793\n"
     ]
    }
   ],
   "source": [
    "#after tuning parameters\n",
    "best_model1 = RandomForestClassifier(**grid.best_params_)\n",
    "best_model1.fit(X_train_scaled, y_train.values.ravel())\n",
    "score_best_model1 = best_model1.score(X_test_scaled,y_test.values.ravel())\n",
    "print(\"ramdom scaled Forest score:{}\".format(score_best_model1))"
   ]
  },
  {
   "cell_type": "code",
   "execution_count": 40,
   "id": "8ad1846a",
   "metadata": {},
   "outputs": [
    {
     "name": "stdout",
     "output_type": "stream",
     "text": [
      "Fitting 5 folds for each of 32 candidates, totalling 160 fits\n",
      "{'class_weight': {0: 0.6, 1: 0.4}, 'criterion': 'entropy', 'max_depth': 4, 'max_leaf_nodes': 2, 'min_samples_leaf': 1, 'n_jobs': -1, 'random_state': 41}\n"
     ]
    }
   ],
   "source": [
    "# import GridSerachCV to search for the best parameters combination\n",
    "# test2\n",
    "from sklearn.model_selection import GridSearchCV\n",
    "params2 = {'class_weight':[{0:0.6,1:0.4}],'criterion':('entropy','gini'),'max_depth':[4],'max_leaf_nodes':[2,10,15,30], \"min_samples_leaf\":[1,2,3,4],'random_state':[41], \"n_jobs\":[-1]}\n",
    "grid = GridSearchCV(RandomForestClassifier(),params2,refit=True,verbose=1)\n",
    "grid.fit(X_train_scaled,y_train.values.ravel())\n",
    "print(grid.best_params_)\n"
   ]
  },
  {
   "cell_type": "code",
   "execution_count": 41,
   "id": "7d181c6a",
   "metadata": {},
   "outputs": [
    {
     "name": "stdout",
     "output_type": "stream",
     "text": [
      "ramdom scaled Forest score:0.853009997872793\n"
     ]
    }
   ],
   "source": [
    "#after tuning parameters set 2\n",
    "best_model2 = RandomForestClassifier(**grid.best_params_)\n",
    "best_model2.fit(X_train_scaled, y_train.values.ravel())\n",
    "score_best_model2 = best_model2.score(X_test_scaled,y_test.values.ravel())\n",
    "print(\"ramdom scaled Forest score:{}\".format(score_best_model2))"
   ]
  },
  {
   "cell_type": "code",
   "execution_count": 19,
   "id": "3b1cfcd0",
   "metadata": {},
   "outputs": [],
   "source": [
    "# saving model to current directory\n",
    "pickle.dump(rfc, open('RFCmodel.pkl','wb'))\n"
   ]
  },
  {
   "cell_type": "code",
   "execution_count": null,
   "id": "a84ddef9",
   "metadata": {},
   "outputs": [],
   "source": [
    "\n",
    "\n"
   ]
  },
  {
   "cell_type": "code",
   "execution_count": null,
   "id": "7efb5722",
   "metadata": {},
   "outputs": [],
   "source": []
  }
 ],
 "metadata": {
  "kernelspec": {
   "display_name": "Python [conda env:PythonAdv]",
   "language": "python",
   "name": "conda-env-PythonAdv-py"
  },
  "language_info": {
   "codemirror_mode": {
    "name": "ipython",
    "version": 3
   },
   "file_extension": ".py",
   "mimetype": "text/x-python",
   "name": "python",
   "nbconvert_exporter": "python",
   "pygments_lexer": "ipython3",
   "version": "3.6.13"
  }
 },
 "nbformat": 4,
 "nbformat_minor": 5
}
