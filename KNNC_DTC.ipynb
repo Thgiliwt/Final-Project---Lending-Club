{
 "cells": [
  {
   "cell_type": "code",
   "execution_count": 4,
   "id": "6ecd285e",
   "metadata": {
    "collapsed": true
   },
   "outputs": [
    {
     "name": "stdout",
     "output_type": "stream",
     "text": [
      "Requirement already satisfied: tensorflow in c:\\users\\matt\\anaconda3\\envs\\pythonadv\\lib\\site-packages (2.1.0)\n",
      "Requirement already satisfied: wrapt>=1.11.1 in c:\\users\\matt\\anaconda3\\envs\\pythonadv\\lib\\site-packages (from tensorflow) (1.12.1)\n",
      "Requirement already satisfied: opt-einsum>=2.3.2 in c:\\users\\matt\\anaconda3\\envs\\pythonadv\\lib\\site-packages (from tensorflow) (3.3.0)\n",
      "Requirement already satisfied: wheel>=0.26 in c:\\users\\matt\\anaconda3\\envs\\pythonadv\\lib\\site-packages (from tensorflow) (0.37.0)\n",
      "Requirement already satisfied: grpcio>=1.8.6 in c:\\users\\matt\\anaconda3\\envs\\pythonadv\\lib\\site-packages (from tensorflow) (1.36.1)\n",
      "Requirement already satisfied: protobuf>=3.8.0 in c:\\users\\matt\\anaconda3\\envs\\pythonadv\\lib\\site-packages (from tensorflow) (3.11.2)\n",
      "Requirement already satisfied: termcolor>=1.1.0 in c:\\users\\matt\\anaconda3\\envs\\pythonadv\\lib\\site-packages (from tensorflow) (1.1.0)\n",
      "Requirement already satisfied: gast==0.2.2 in c:\\users\\matt\\anaconda3\\envs\\pythonadv\\lib\\site-packages (from tensorflow) (0.2.2)\n",
      "Requirement already satisfied: six>=1.12.0 in c:\\users\\matt\\anaconda3\\envs\\pythonadv\\lib\\site-packages (from tensorflow) (1.16.0)\n",
      "Requirement already satisfied: tensorflow-estimator<2.2.0,>=2.1.0rc0 in c:\\users\\matt\\anaconda3\\envs\\pythonadv\\lib\\site-packages (from tensorflow) (2.1.0)\n",
      "Requirement already satisfied: astor>=0.6.0 in c:\\users\\matt\\anaconda3\\envs\\pythonadv\\lib\\site-packages (from tensorflow) (0.8.1)\n",
      "Collecting scipy==1.4.1\n",
      "  Downloading scipy-1.4.1-cp36-cp36m-win_amd64.whl (30.8 MB)\n",
      "Requirement already satisfied: numpy<2.0,>=1.16.0 in c:\\users\\matt\\anaconda3\\envs\\pythonadv\\lib\\site-packages (from tensorflow) (1.19.2)\n",
      "Requirement already satisfied: google-pasta>=0.1.6 in c:\\users\\matt\\anaconda3\\envs\\pythonadv\\lib\\site-packages (from tensorflow) (0.2.0)\n",
      "Requirement already satisfied: keras-preprocessing>=1.1.0 in c:\\users\\matt\\anaconda3\\envs\\pythonadv\\lib\\site-packages (from tensorflow) (1.1.2)\n",
      "Collecting tensorboard<2.2.0,>=2.1.0\n",
      "  Downloading tensorboard-2.1.1-py3-none-any.whl (3.8 MB)\n",
      "Requirement already satisfied: absl-py>=0.7.0 in c:\\users\\matt\\anaconda3\\envs\\pythonadv\\lib\\site-packages (from tensorflow) (0.13.0)\n",
      "Requirement already satisfied: keras-applications>=1.0.8 in c:\\users\\matt\\anaconda3\\envs\\pythonadv\\lib\\site-packages (from tensorflow) (1.0.8)\n",
      "Requirement already satisfied: h5py in c:\\users\\matt\\anaconda3\\envs\\pythonadv\\lib\\site-packages (from keras-applications>=1.0.8->tensorflow) (2.10.0)\n",
      "Requirement already satisfied: setuptools in c:\\users\\matt\\anaconda3\\envs\\pythonadv\\lib\\site-packages (from protobuf>=3.8.0->tensorflow) (58.0.4)\n",
      "Requirement already satisfied: werkzeug>=0.11.15 in c:\\users\\matt\\anaconda3\\envs\\pythonadv\\lib\\site-packages (from tensorboard<2.2.0,>=2.1.0->tensorflow) (0.16.1)\n",
      "Requirement already satisfied: requests<3,>=2.21.0 in c:\\users\\matt\\anaconda3\\envs\\pythonadv\\lib\\site-packages (from tensorboard<2.2.0,>=2.1.0->tensorflow) (2.26.0)\n",
      "Requirement already satisfied: google-auth-oauthlib<0.5,>=0.4.1 in c:\\users\\matt\\anaconda3\\envs\\pythonadv\\lib\\site-packages (from tensorboard<2.2.0,>=2.1.0->tensorflow) (0.4.4)\n",
      "Requirement already satisfied: markdown>=2.6.8 in c:\\users\\matt\\anaconda3\\envs\\pythonadv\\lib\\site-packages (from tensorboard<2.2.0,>=2.1.0->tensorflow) (3.3.4)\n",
      "Requirement already satisfied: google-auth<2,>=1.6.3 in c:\\users\\matt\\anaconda3\\envs\\pythonadv\\lib\\site-packages (from tensorboard<2.2.0,>=2.1.0->tensorflow) (1.33.0)\n",
      "Requirement already satisfied: rsa<5,>=3.1.4 in c:\\users\\matt\\anaconda3\\envs\\pythonadv\\lib\\site-packages (from google-auth<2,>=1.6.3->tensorboard<2.2.0,>=2.1.0->tensorflow) (4.7.2)\n",
      "Requirement already satisfied: cachetools<5.0,>=2.0.0 in c:\\users\\matt\\anaconda3\\envs\\pythonadv\\lib\\site-packages (from google-auth<2,>=1.6.3->tensorboard<2.2.0,>=2.1.0->tensorflow) (4.2.2)\n",
      "Requirement already satisfied: pyasn1-modules>=0.2.1 in c:\\users\\matt\\anaconda3\\envs\\pythonadv\\lib\\site-packages (from google-auth<2,>=1.6.3->tensorboard<2.2.0,>=2.1.0->tensorflow) (0.2.8)\n",
      "Requirement already satisfied: requests-oauthlib>=0.7.0 in c:\\users\\matt\\anaconda3\\envs\\pythonadv\\lib\\site-packages (from google-auth-oauthlib<0.5,>=0.4.1->tensorboard<2.2.0,>=2.1.0->tensorflow) (1.3.0)\n",
      "Requirement already satisfied: importlib-metadata in c:\\users\\matt\\anaconda3\\envs\\pythonadv\\lib\\site-packages (from markdown>=2.6.8->tensorboard<2.2.0,>=2.1.0->tensorflow) (4.8.1)\n",
      "Requirement already satisfied: pyasn1<0.5.0,>=0.4.6 in c:\\users\\matt\\anaconda3\\envs\\pythonadv\\lib\\site-packages (from pyasn1-modules>=0.2.1->google-auth<2,>=1.6.3->tensorboard<2.2.0,>=2.1.0->tensorflow) (0.4.8)\n",
      "Note: you may need to restart the kernel to use updated packages.\n"
     ]
    },
    {
     "name": "stderr",
     "output_type": "stream",
     "text": [
      "ERROR: Could not install packages due to an OSError: [WinError 5] Access is denied: 'c:\\\\users\\\\matt\\\\anaconda3\\\\envs\\\\pythonadv\\\\lib\\\\site-packages\\\\~cipy\\\\fft\\\\_pocketfft\\\\pypocketfft.cp36-win_amd64.pyd'\n",
      "Consider using the `--user` option or check the permissions.\n",
      "\n"
     ]
    },
    {
     "name": "stdout",
     "output_type": "stream",
     "text": [
      "Requirement already satisfied: urllib3<1.27,>=1.21.1 in c:\\users\\matt\\anaconda3\\envs\\pythonadv\\lib\\site-packages (from requests<3,>=2.21.0->tensorboard<2.2.0,>=2.1.0->tensorflow) (1.26.6)\n",
      "Requirement already satisfied: charset-normalizer~=2.0.0 in c:\\users\\matt\\anaconda3\\envs\\pythonadv\\lib\\site-packages (from requests<3,>=2.21.0->tensorboard<2.2.0,>=2.1.0->tensorflow) (2.0.4)\n",
      "Requirement already satisfied: certifi>=2017.4.17 in c:\\users\\matt\\anaconda3\\envs\\pythonadv\\lib\\site-packages (from requests<3,>=2.21.0->tensorboard<2.2.0,>=2.1.0->tensorflow) (2021.5.30)\n",
      "Requirement already satisfied: idna<4,>=2.5 in c:\\users\\matt\\anaconda3\\envs\\pythonadv\\lib\\site-packages (from requests<3,>=2.21.0->tensorboard<2.2.0,>=2.1.0->tensorflow) (3.2)\n",
      "Requirement already satisfied: oauthlib>=3.0.0 in c:\\users\\matt\\anaconda3\\envs\\pythonadv\\lib\\site-packages (from requests-oauthlib>=0.7.0->google-auth-oauthlib<0.5,>=0.4.1->tensorboard<2.2.0,>=2.1.0->tensorflow) (3.1.1)\n",
      "Requirement already satisfied: typing-extensions>=3.6.4 in c:\\users\\matt\\anaconda3\\envs\\pythonadv\\lib\\site-packages (from importlib-metadata->markdown>=2.6.8->tensorboard<2.2.0,>=2.1.0->tensorflow) (3.10.0.2)\n",
      "Requirement already satisfied: zipp>=0.5 in c:\\users\\matt\\anaconda3\\envs\\pythonadv\\lib\\site-packages (from importlib-metadata->markdown>=2.6.8->tensorboard<2.2.0,>=2.1.0->tensorflow) (3.5.0)\n",
      "Installing collected packages: tensorboard, scipy\n",
      "  Attempting uninstall: tensorboard\n",
      "    Found existing installation: tensorboard 2.4.0\n",
      "    Uninstalling tensorboard-2.4.0:\n",
      "      Successfully uninstalled tensorboard-2.4.0\n",
      "  Attempting uninstall: scipy\n",
      "    Found existing installation: scipy 1.5.2\n",
      "    Uninstalling scipy-1.5.2:\n",
      "      Successfully uninstalled scipy-1.5.2\n"
     ]
    }
   ],
   "source": [
    "pip install tensorflow"
   ]
  },
  {
   "cell_type": "code",
   "execution_count": 1,
   "id": "c4776917",
   "metadata": {},
   "outputs": [],
   "source": [
    "import pandas as pd\n",
    "import numpy as np\n",
    "import matplotlib.pyplot as plt\n",
    "import scipy\n",
    "from sklearn.neighbors import KNeighborsClassifier\n",
    "from sklearn.model_selection import GridSearchCV\n",
    "from sklearn.model_selection import cross_val_score\n",
    "from sklearn.model_selection import train_test_split\n",
    "from sklearn.metrics import confusion_matrix, roc_curve, roc_auc_score, classification_report"
   ]
  },
  {
   "cell_type": "code",
   "execution_count": 2,
   "id": "61ed912d",
   "metadata": {},
   "outputs": [
    {
     "data": {
      "text/html": [
       "<div>\n",
       "<style scoped>\n",
       "    .dataframe tbody tr th:only-of-type {\n",
       "        vertical-align: middle;\n",
       "    }\n",
       "\n",
       "    .dataframe tbody tr th {\n",
       "        vertical-align: top;\n",
       "    }\n",
       "\n",
       "    .dataframe thead th {\n",
       "        text-align: right;\n",
       "    }\n",
       "</style>\n",
       "<table border=\"1\" class=\"dataframe\">\n",
       "  <thead>\n",
       "    <tr style=\"text-align: right;\">\n",
       "      <th></th>\n",
       "      <th>loan_amnt</th>\n",
       "      <th>int_rate</th>\n",
       "      <th>emp_length</th>\n",
       "      <th>annual_inc</th>\n",
       "      <th>loan_status</th>\n",
       "      <th>term</th>\n",
       "      <th>home_ownership</th>\n",
       "      <th>purpose</th>\n",
       "    </tr>\n",
       "  </thead>\n",
       "  <tbody>\n",
       "    <tr>\n",
       "      <th>0</th>\n",
       "      <td>30000</td>\n",
       "      <td>22.35</td>\n",
       "      <td>5</td>\n",
       "      <td>100000.0</td>\n",
       "      <td>1</td>\n",
       "      <td>0</td>\n",
       "      <td>1</td>\n",
       "      <td>2</td>\n",
       "    </tr>\n",
       "    <tr>\n",
       "      <th>1</th>\n",
       "      <td>40000</td>\n",
       "      <td>16.14</td>\n",
       "      <td>0</td>\n",
       "      <td>45000.0</td>\n",
       "      <td>1</td>\n",
       "      <td>1</td>\n",
       "      <td>1</td>\n",
       "      <td>1</td>\n",
       "    </tr>\n",
       "    <tr>\n",
       "      <th>2</th>\n",
       "      <td>20000</td>\n",
       "      <td>7.56</td>\n",
       "      <td>10</td>\n",
       "      <td>100000.0</td>\n",
       "      <td>1</td>\n",
       "      <td>0</td>\n",
       "      <td>1</td>\n",
       "      <td>1</td>\n",
       "    </tr>\n",
       "    <tr>\n",
       "      <th>3</th>\n",
       "      <td>4500</td>\n",
       "      <td>11.31</td>\n",
       "      <td>10</td>\n",
       "      <td>38500.0</td>\n",
       "      <td>1</td>\n",
       "      <td>0</td>\n",
       "      <td>3</td>\n",
       "      <td>1</td>\n",
       "    </tr>\n",
       "    <tr>\n",
       "      <th>4</th>\n",
       "      <td>8425</td>\n",
       "      <td>27.27</td>\n",
       "      <td>3</td>\n",
       "      <td>450000.0</td>\n",
       "      <td>1</td>\n",
       "      <td>0</td>\n",
       "      <td>1</td>\n",
       "      <td>1</td>\n",
       "    </tr>\n",
       "  </tbody>\n",
       "</table>\n",
       "</div>"
      ],
      "text/plain": [
       "   loan_amnt  int_rate  emp_length  annual_inc  loan_status  term  \\\n",
       "0      30000     22.35           5    100000.0            1     0   \n",
       "1      40000     16.14           0     45000.0            1     1   \n",
       "2      20000      7.56          10    100000.0            1     0   \n",
       "3       4500     11.31          10     38500.0            1     0   \n",
       "4       8425     27.27           3    450000.0            1     0   \n",
       "\n",
       "   home_ownership  purpose  \n",
       "0               1        2  \n",
       "1               1        1  \n",
       "2               1        1  \n",
       "3               3        1  \n",
       "4               1        1  "
      ]
     },
     "execution_count": 2,
     "metadata": {},
     "output_type": "execute_result"
    }
   ],
   "source": [
    "data = pd.read_csv('Resources/cleaned_loan.csv')\n",
    "\n",
    "data.head()"
   ]
  },
  {
   "cell_type": "code",
   "execution_count": 21,
   "id": "c3f9db94",
   "metadata": {},
   "outputs": [],
   "source": [
    "X = data.drop(columns=['loan_status']).astype(float)\n",
    "\n",
    "Y = data['loan_status']"
   ]
  },
  {
   "cell_type": "code",
   "execution_count": 27,
   "id": "0b1c7fb8",
   "metadata": {},
   "outputs": [
    {
     "data": {
      "image/png": "[encoded data removed]",
      "text/plain": [
       "<Figure size 432x288 with 1 Axes>"
      ]
     },
     "metadata": {
      "needs_background": "light"
     },
     "output_type": "display_data"
    }
   ],
   "source": [
    "train_X,test_X,train_Y,test_Y = train_test_split(X,Y,test_size=0.3,random_state=41)\n",
    "\n",
    "k_range = range(1,30)\n",
    "model_score = []\n",
    "\n",
    "for n in k_range:\n",
    "    knn = KNeighborsClassifier(n)\n",
    "    scores = cross_val_score(knn,train_X,train_Y,cv=10,scoring='f1')\n",
    "    model_score.append(scores.mean()*100)\n",
    "\n",
    "plt.plot(k_range,model_score)\n",
    "plt.xlabel('K')\n",
    "plt.xticks(np.arange(1,30,step=1))\n",
    "plt.ylabel('f1')\n",
    "plt.show()\n"
   ]
  },
  {
   "cell_type": "code",
   "execution_count": 37,
   "id": "2445637b",
   "metadata": {
    "scrolled": true
   },
   "outputs": [
    {
     "data": {
      "text/plain": [
       "[(76.28557574817198, 1),\n",
       " (68.34123920907993, 2),\n",
       " (81.2940625580126, 3),\n",
       " (78.31875364238287, 4),\n",
       " (83.02029297919444, 5),\n",
       " (81.55543210321233, 6),\n",
       " (83.90165404589655, 7),\n",
       " (83.00205127920948, 8),\n",
       " (84.4638846481008, 9),\n",
       " (83.97458113174089, 10),\n",
       " (84.81338438903559, 11),\n",
       " (84.5033964787451, 12),\n",
       " (84.99270646019032, 13),\n",
       " (84.76780184328818, 14),\n",
       " (85.12642751392534, 15),\n",
       " (85.00181576538759, 16),\n",
       " (85.14161584647825, 17),\n",
       " (85.03828623518687, 18),\n",
       " (85.1932848082502, 19),\n",
       " (85.14161861722907, 20),\n",
       " (85.23887474266651, 21),\n",
       " (85.20544009221058, 22),\n",
       " (85.22975527804947, 23),\n",
       " (85.22367717427747, 24),\n",
       " (85.24799143653271, 25),\n",
       " (85.2236799450283, 26),\n",
       " (85.25407231105558, 27),\n",
       " (85.24191333276072, 28),\n",
       " (85.24191517992794, 29)]"
      ]
     },
     "execution_count": 37,
     "metadata": {},
     "output_type": "execute_result"
    }
   ],
   "source": [
    "k_values = np.arange(1,30).tolist()\n",
    "\n",
    "[*zip(model_score,k_values)]"
   ]
  },
  {
   "cell_type": "code",
   "execution_count": 40,
   "id": "09692bd6",
   "metadata": {
    "scrolled": true
   },
   "outputs": [
    {
     "name": "stdout",
     "output_type": "stream",
     "text": [
      "Fitting 10 folds for each of 58 candidates, totalling 580 fits\n",
      "max score: 0.8525407231105557\n",
      "best params: {'n_neighbors': 27, 'weights': 'uniform'}\n",
      "best settings: KNeighborsClassifier(n_neighbors=27)\n"
     ]
    }
   ],
   "source": [
    "knn2 = KNeighborsClassifier()\n",
    "\n",
    "grid={'n_neighbors':range(1,30,1),\"weights\":['uniform','distance']}\n",
    "gs=GridSearchCV(estimator=knn2,param_grid=grid,scoring='accuracy',n_jobs=-1,cv=10,verbose=10)\n",
    "gs.fit(train_X,train_Y)\n",
    "\n",
    "print('max score:',gs.best_score_)\n",
    "print('best params:',gs.best_params_)\n",
    "print('best settings:',gs.best_estimator_)"
   ]
  },
  {
   "cell_type": "code",
   "execution_count": 51,
   "id": "e0ce8dd0",
   "metadata": {},
   "outputs": [
    {
     "name": "stdout",
     "output_type": "stream",
     "text": [
      "0.8531518116712756\n",
      "[[    2  2065]\n",
      " [    6 12030]]\n"
     ]
    }
   ],
   "source": [
    "knn_best = gs.best_estimator_\n",
    "pred_Y = knn_best.predict(test_X)\n",
    "test_score = knn_best.score(test_X,test_Y)\n",
    "matrix = confusion_matrix(test_Y,pred_Y)\n",
    "\n",
    "print(test_score)\n",
    "print(matrix)"
   ]
  },
  {
   "cell_type": "code",
   "execution_count": 44,
   "id": "0b6836b2",
   "metadata": {},
   "outputs": [
    {
     "data": {
      "image/png": "[encoded data removed]",
      "text/plain": [
       "<Figure size 432x288 with 1 Axes>"
      ]
     },
     "metadata": {
      "needs_background": "light"
     },
     "output_type": "display_data"
    }
   ],
   "source": [
    "fprs,tprs,thresholds=roc_curve(test_Y,pred_Y)\n",
    "plt.plot(fprs,tprs)\n",
    "plt.xlabel('FPR')\n",
    "plt.ylabel('TPR(recall)')\n",
    "plt.show()"
   ]
  },
  {
   "cell_type": "code",
   "execution_count": 47,
   "id": "99fbd291",
   "metadata": {},
   "outputs": [
    {
     "data": {
      "text/plain": [
       "0.5002345406933529"
      ]
     },
     "execution_count": 47,
     "metadata": {},
     "output_type": "execute_result"
    }
   ],
   "source": [
    "roc_auc_score(test_Y,pred_Y)"
   ]
  },
  {
   "cell_type": "code",
   "execution_count": 49,
   "id": "080498b6",
   "metadata": {},
   "outputs": [
    {
     "data": {
      "text/plain": [
       "1    40093\n",
       "0     6914\n",
       "Name: loan_status, dtype: int64"
      ]
     },
     "execution_count": 49,
     "metadata": {},
     "output_type": "execute_result"
    }
   ],
   "source": [
    "data['loan_status'].value_counts()"
   ]
  },
  {
   "cell_type": "code",
   "execution_count": 52,
   "id": "7d883c3f",
   "metadata": {},
   "outputs": [
    {
     "name": "stdout",
     "output_type": "stream",
     "text": [
      "              precision    recall  f1-score   support\n",
      "\n",
      "           0       0.25      0.00      0.00      2067\n",
      "           1       0.85      1.00      0.92     12036\n",
      "\n",
      "    accuracy                           0.85     14103\n",
      "   macro avg       0.55      0.50      0.46     14103\n",
      "weighted avg       0.77      0.85      0.79     14103\n",
      "\n"
     ]
    }
   ],
   "source": [
    "print(classification_report(test_Y,pred_Y))"
   ]
  },
  {
   "cell_type": "code",
   "execution_count": 4,
   "id": "51d92630",
   "metadata": {},
   "outputs": [],
   "source": [
    "from sklearn.tree import DecisionTreeClassifier\n",
    "from sklearn import tree\n",
    "import graphviz"
   ]
  },
  {
   "cell_type": "code",
   "execution_count": 15,
   "id": "997853ab",
   "metadata": {},
   "outputs": [
    {
     "name": "stdout",
     "output_type": "stream",
     "text": [
      "Fitting 5 folds for each of 14580 candidates, totalling 72900 fits\n"
     ]
    },
    {
     "name": "stderr",
     "output_type": "stream",
     "text": [
      "C:\\Users\\Matt\\anaconda3\\envs\\PythonAdv\\lib\\site-packages\\sklearn\\model_selection\\_search.py:925: UserWarning: One or more of the test scores are non-finite: [       nan        nan 0.85269268 ... 0.51510551 0.45848441 0.51525747]\n",
      "  category=UserWarning\n"
     ]
    },
    {
     "data": {
      "text/plain": [
       "{'class_weight': {0: 1, 1: 1},\n",
       " 'criterion': 'entropy',\n",
       " 'max_depth': 5,\n",
       " 'min_samples_leaf': 6,\n",
       " 'min_samples_split': 9,\n",
       " 'splitter': 'random'}"
      ]
     },
     "execution_count": 15,
     "metadata": {},
     "output_type": "execute_result"
    }
   ],
   "source": [
    "x1 = data.drop(columns='loan_status')\n",
    "\n",
    "y1 = data['loan_status']\n",
    "\n",
    "train_X,test_X,train_Y,test_Y = train_test_split(x1,y1,test_size=0.3,random_state=41)\n",
    "\n",
    "clf = DecisionTreeClassifier()\n",
    "\n",
    "weights=np.arange(1,10,1)\n",
    "\n",
    "grid1={'criterion':['entropy','gini'],'splitter':['random','best'],'max_depth':range(3,8)\n",
    "       ,'min_samples_leaf':range(1,10),'min_samples_split':range(1,10),\n",
    "      'class_weight':[{0:x, 1:1} for x in weights]}\n",
    "gs1=GridSearchCV(estimator=clf,param_grid=grid1,cv=5,verbose=10,n_jobs=-1)\n",
    "gs1.fit(train_X,train_Y)\n",
    "\n",
    "gs1.best_score_\n",
    "gs1.best_params_"
   ]
  },
  {
   "cell_type": "code",
   "execution_count": 16,
   "id": "883baeb4",
   "metadata": {},
   "outputs": [
    {
     "data": {
      "text/plain": [
       "0.8530573923549835"
      ]
     },
     "execution_count": 16,
     "metadata": {},
     "output_type": "execute_result"
    }
   ],
   "source": [
    "gs1.best_score_"
   ]
  },
  {
   "cell_type": "code",
   "execution_count": 11,
   "id": "a1aae45e",
   "metadata": {},
   "outputs": [
    {
     "name": "stdout",
     "output_type": "stream",
     "text": [
      "0.8534354392682408\n",
      "[[    0  2067]\n",
      " [    0 12036]]\n"
     ]
    }
   ],
   "source": [
    "clf1 = gs1.best_estimator_\n",
    "\n",
    "pred_Y = clf1.predict(test_X)\n",
    "tree_score = clf1.score(test_X,test_Y)\n",
    "matrix1 = confusion_matrix(test_Y,pred_Y)\n",
    "\n",
    "print(tree_score)\n",
    "print(matrix1)"
   ]
  },
  {
   "cell_type": "code",
   "execution_count": 12,
   "id": "262414d6",
   "metadata": {},
   "outputs": [
    {
     "name": "stdout",
     "output_type": "stream",
     "text": [
      "              precision    recall  f1-score   support\n",
      "\n",
      "           0       0.00      0.00      0.00      2067\n",
      "           1       0.85      1.00      0.92     12036\n",
      "\n",
      "    accuracy                           0.85     14103\n",
      "   macro avg       0.43      0.50      0.46     14103\n",
      "weighted avg       0.73      0.85      0.79     14103\n",
      "\n"
     ]
    },
    {
     "name": "stderr",
     "output_type": "stream",
     "text": [
      "C:\\Users\\Matt\\anaconda3\\envs\\PythonAdv\\lib\\site-packages\\sklearn\\metrics\\_classification.py:1248: UndefinedMetricWarning: Precision and F-score are ill-defined and being set to 0.0 in labels with no predicted samples. Use `zero_division` parameter to control this behavior.\n",
      "  _warn_prf(average, modifier, msg_start, len(result))\n",
      "C:\\Users\\Matt\\anaconda3\\envs\\PythonAdv\\lib\\site-packages\\sklearn\\metrics\\_classification.py:1248: UndefinedMetricWarning: Precision and F-score are ill-defined and being set to 0.0 in labels with no predicted samples. Use `zero_division` parameter to control this behavior.\n",
      "  _warn_prf(average, modifier, msg_start, len(result))\n",
      "C:\\Users\\Matt\\anaconda3\\envs\\PythonAdv\\lib\\site-packages\\sklearn\\metrics\\_classification.py:1248: UndefinedMetricWarning: Precision and F-score are ill-defined and being set to 0.0 in labels with no predicted samples. Use `zero_division` parameter to control this behavior.\n",
      "  _warn_prf(average, modifier, msg_start, len(result))\n"
     ]
    }
   ],
   "source": [
    "print(classification_report(test_Y,pred_Y))"
   ]
  },
  {
   "cell_type": "code",
   "execution_count": 13,
   "id": "2426627f",
   "metadata": {},
   "outputs": [
    {
     "data": {
      "text/html": [
       "<div>\n",
       "<style scoped>\n",
       "    .dataframe tbody tr th:only-of-type {\n",
       "        vertical-align: middle;\n",
       "    }\n",
       "\n",
       "    .dataframe tbody tr th {\n",
       "        vertical-align: top;\n",
       "    }\n",
       "\n",
       "    .dataframe thead th {\n",
       "        text-align: right;\n",
       "    }\n",
       "</style>\n",
       "<table border=\"1\" class=\"dataframe\">\n",
       "  <thead>\n",
       "    <tr style=\"text-align: right;\">\n",
       "      <th></th>\n",
       "      <th>loan_amnt</th>\n",
       "      <th>int_rate</th>\n",
       "      <th>emp_length</th>\n",
       "      <th>annual_inc</th>\n",
       "      <th>loan_status</th>\n",
       "      <th>term</th>\n",
       "      <th>home_ownership</th>\n",
       "      <th>purpose</th>\n",
       "    </tr>\n",
       "  </thead>\n",
       "  <tbody>\n",
       "    <tr>\n",
       "      <th>0</th>\n",
       "      <td>30000</td>\n",
       "      <td>22.35</td>\n",
       "      <td>5</td>\n",
       "      <td>100000.0</td>\n",
       "      <td>1</td>\n",
       "      <td>0</td>\n",
       "      <td>1</td>\n",
       "      <td>2</td>\n",
       "    </tr>\n",
       "    <tr>\n",
       "      <th>1</th>\n",
       "      <td>40000</td>\n",
       "      <td>16.14</td>\n",
       "      <td>0</td>\n",
       "      <td>45000.0</td>\n",
       "      <td>1</td>\n",
       "      <td>1</td>\n",
       "      <td>1</td>\n",
       "      <td>1</td>\n",
       "    </tr>\n",
       "    <tr>\n",
       "      <th>2</th>\n",
       "      <td>20000</td>\n",
       "      <td>7.56</td>\n",
       "      <td>10</td>\n",
       "      <td>100000.0</td>\n",
       "      <td>1</td>\n",
       "      <td>0</td>\n",
       "      <td>1</td>\n",
       "      <td>1</td>\n",
       "    </tr>\n",
       "    <tr>\n",
       "      <th>3</th>\n",
       "      <td>4500</td>\n",
       "      <td>11.31</td>\n",
       "      <td>10</td>\n",
       "      <td>38500.0</td>\n",
       "      <td>1</td>\n",
       "      <td>0</td>\n",
       "      <td>3</td>\n",
       "      <td>1</td>\n",
       "    </tr>\n",
       "    <tr>\n",
       "      <th>4</th>\n",
       "      <td>8425</td>\n",
       "      <td>27.27</td>\n",
       "      <td>3</td>\n",
       "      <td>450000.0</td>\n",
       "      <td>1</td>\n",
       "      <td>0</td>\n",
       "      <td>1</td>\n",
       "      <td>1</td>\n",
       "    </tr>\n",
       "  </tbody>\n",
       "</table>\n",
       "</div>"
      ],
      "text/plain": [
       "   loan_amnt  int_rate  emp_length  annual_inc  loan_status  term  \\\n",
       "0      30000     22.35           5    100000.0            1     0   \n",
       "1      40000     16.14           0     45000.0            1     1   \n",
       "2      20000      7.56          10    100000.0            1     0   \n",
       "3       4500     11.31          10     38500.0            1     0   \n",
       "4       8425     27.27           3    450000.0            1     0   \n",
       "\n",
       "   home_ownership  purpose  \n",
       "0               1        2  \n",
       "1               1        1  \n",
       "2               1        1  \n",
       "3               3        1  \n",
       "4               1        1  "
      ]
     },
     "execution_count": 13,
     "metadata": {},
     "output_type": "execute_result"
    }
   ],
   "source": [
    "data.head()"
   ]
  },
  {
   "cell_type": "code",
   "execution_count": 14,
   "id": "340b3462",
   "metadata": {},
   "outputs": [
    {
     "data": {
      "text/html": [
       "<div>\n",
       "<style scoped>\n",
       "    .dataframe tbody tr th:only-of-type {\n",
       "        vertical-align: middle;\n",
       "    }\n",
       "\n",
       "    .dataframe tbody tr th {\n",
       "        vertical-align: top;\n",
       "    }\n",
       "\n",
       "    .dataframe thead th {\n",
       "        text-align: right;\n",
       "    }\n",
       "</style>\n",
       "<table border=\"1\" class=\"dataframe\">\n",
       "  <thead>\n",
       "    <tr style=\"text-align: right;\">\n",
       "      <th></th>\n",
       "      <th>loan_amnt</th>\n",
       "      <th>int_rate</th>\n",
       "      <th>emp_length</th>\n",
       "      <th>annual_inc</th>\n",
       "      <th>loan_status</th>\n",
       "      <th>term</th>\n",
       "      <th>home_ownership</th>\n",
       "      <th>purpose</th>\n",
       "    </tr>\n",
       "  </thead>\n",
       "  <tbody>\n",
       "    <tr>\n",
       "      <th>count</th>\n",
       "      <td>47007.000000</td>\n",
       "      <td>47007.000000</td>\n",
       "      <td>47007.000000</td>\n",
       "      <td>4.700700e+04</td>\n",
       "      <td>47007.000000</td>\n",
       "      <td>47007.000000</td>\n",
       "      <td>47007.000000</td>\n",
       "      <td>47007.000000</td>\n",
       "    </tr>\n",
       "    <tr>\n",
       "      <th>mean</th>\n",
       "      <td>14935.434084</td>\n",
       "      <td>13.433958</td>\n",
       "      <td>6.305572</td>\n",
       "      <td>8.001621e+04</td>\n",
       "      <td>0.852916</td>\n",
       "      <td>0.271130</td>\n",
       "      <td>1.848278</td>\n",
       "      <td>2.864850</td>\n",
       "    </tr>\n",
       "    <tr>\n",
       "      <th>std</th>\n",
       "      <td>10164.850522</td>\n",
       "      <td>5.521137</td>\n",
       "      <td>3.723621</td>\n",
       "      <td>7.756004e+04</td>\n",
       "      <td>0.354194</td>\n",
       "      <td>0.444548</td>\n",
       "      <td>0.918241</td>\n",
       "      <td>2.336235</td>\n",
       "    </tr>\n",
       "    <tr>\n",
       "      <th>min</th>\n",
       "      <td>1000.000000</td>\n",
       "      <td>5.310000</td>\n",
       "      <td>0.000000</td>\n",
       "      <td>3.300000e+01</td>\n",
       "      <td>0.000000</td>\n",
       "      <td>0.000000</td>\n",
       "      <td>0.000000</td>\n",
       "      <td>0.000000</td>\n",
       "    </tr>\n",
       "    <tr>\n",
       "      <th>25%</th>\n",
       "      <td>7000.000000</td>\n",
       "      <td>9.440000</td>\n",
       "      <td>3.000000</td>\n",
       "      <td>4.750000e+04</td>\n",
       "      <td>1.000000</td>\n",
       "      <td>0.000000</td>\n",
       "      <td>1.000000</td>\n",
       "      <td>2.000000</td>\n",
       "    </tr>\n",
       "    <tr>\n",
       "      <th>50%</th>\n",
       "      <td>12000.000000</td>\n",
       "      <td>12.610000</td>\n",
       "      <td>7.000000</td>\n",
       "      <td>6.700000e+04</td>\n",
       "      <td>1.000000</td>\n",
       "      <td>0.000000</td>\n",
       "      <td>1.000000</td>\n",
       "      <td>2.000000</td>\n",
       "    </tr>\n",
       "    <tr>\n",
       "      <th>75%</th>\n",
       "      <td>20000.000000</td>\n",
       "      <td>16.910000</td>\n",
       "      <td>10.000000</td>\n",
       "      <td>9.500000e+04</td>\n",
       "      <td>1.000000</td>\n",
       "      <td>1.000000</td>\n",
       "      <td>3.000000</td>\n",
       "      <td>3.000000</td>\n",
       "    </tr>\n",
       "    <tr>\n",
       "      <th>max</th>\n",
       "      <td>40000.000000</td>\n",
       "      <td>30.990000</td>\n",
       "      <td>10.000000</td>\n",
       "      <td>9.300000e+06</td>\n",
       "      <td>1.000000</td>\n",
       "      <td>1.000000</td>\n",
       "      <td>3.000000</td>\n",
       "      <td>12.000000</td>\n",
       "    </tr>\n",
       "  </tbody>\n",
       "</table>\n",
       "</div>"
      ],
      "text/plain": [
       "          loan_amnt      int_rate    emp_length    annual_inc   loan_status  \\\n",
       "count  47007.000000  47007.000000  47007.000000  4.700700e+04  47007.000000   \n",
       "mean   14935.434084     13.433958      6.305572  8.001621e+04      0.852916   \n",
       "std    10164.850522      5.521137      3.723621  7.756004e+04      0.354194   \n",
       "min     1000.000000      5.310000      0.000000  3.300000e+01      0.000000   \n",
       "25%     7000.000000      9.440000      3.000000  4.750000e+04      1.000000   \n",
       "50%    12000.000000     12.610000      7.000000  6.700000e+04      1.000000   \n",
       "75%    20000.000000     16.910000     10.000000  9.500000e+04      1.000000   \n",
       "max    40000.000000     30.990000     10.000000  9.300000e+06      1.000000   \n",
       "\n",
       "               term  home_ownership       purpose  \n",
       "count  47007.000000    47007.000000  47007.000000  \n",
       "mean       0.271130        1.848278      2.864850  \n",
       "std        0.444548        0.918241      2.336235  \n",
       "min        0.000000        0.000000      0.000000  \n",
       "25%        0.000000        1.000000      2.000000  \n",
       "50%        0.000000        1.000000      2.000000  \n",
       "75%        1.000000        3.000000      3.000000  \n",
       "max        1.000000        3.000000     12.000000  "
      ]
     },
     "execution_count": 14,
     "metadata": {},
     "output_type": "execute_result"
    }
   ],
   "source": [
    "data.describe()"
   ]
  },
  {
   "cell_type": "code",
   "execution_count": 15,
   "id": "f9f2d82f",
   "metadata": {},
   "outputs": [
    {
     "data": {
      "text/plain": [
       "33.0"
      ]
     },
     "execution_count": 15,
     "metadata": {},
     "output_type": "execute_result"
    }
   ],
   "source": [
    "min(data['annual_inc'])"
   ]
  },
  {
   "cell_type": "code",
   "execution_count": 24,
   "id": "0a0fbe71",
   "metadata": {},
   "outputs": [
    {
     "data": {
      "text/html": [
       "<div>\n",
       "<style scoped>\n",
       "    .dataframe tbody tr th:only-of-type {\n",
       "        vertical-align: middle;\n",
       "    }\n",
       "\n",
       "    .dataframe tbody tr th {\n",
       "        vertical-align: top;\n",
       "    }\n",
       "\n",
       "    .dataframe thead th {\n",
       "        text-align: right;\n",
       "    }\n",
       "</style>\n",
       "<table border=\"1\" class=\"dataframe\">\n",
       "  <thead>\n",
       "    <tr style=\"text-align: right;\">\n",
       "      <th></th>\n",
       "      <th>loan_amnt</th>\n",
       "      <th>int_rate</th>\n",
       "      <th>emp_length</th>\n",
       "      <th>annual_inc</th>\n",
       "      <th>term</th>\n",
       "      <th>home_ownership</th>\n",
       "      <th>purpose</th>\n",
       "    </tr>\n",
       "  </thead>\n",
       "  <tbody>\n",
       "    <tr>\n",
       "      <th>0</th>\n",
       "      <td>100000</td>\n",
       "      <td>31</td>\n",
       "      <td>0</td>\n",
       "      <td>33</td>\n",
       "      <td>0</td>\n",
       "      <td>0</td>\n",
       "      <td>12</td>\n",
       "    </tr>\n",
       "  </tbody>\n",
       "</table>\n",
       "</div>"
      ],
      "text/plain": [
       "   loan_amnt  int_rate  emp_length  annual_inc  term  home_ownership  purpose\n",
       "0     100000        31           0          33     0               0       12"
      ]
     },
     "execution_count": 24,
     "metadata": {},
     "output_type": "execute_result"
    }
   ],
   "source": [
    "x_1 = {'loan_amnt':[100000],'int_rate':[31],'emp_length':[0],'annual_inc':[33],'term':[0],'home_ownership':[0],'purpose':[12]}\n",
    "\n",
    "x_2 = pd.DataFrame(x_1)\n",
    "\n",
    "x_2"
   ]
  },
  {
   "cell_type": "code",
   "execution_count": 25,
   "id": "a9bfc00f",
   "metadata": {},
   "outputs": [
    {
     "data": {
      "text/plain": [
       "array([1], dtype=int64)"
      ]
     },
     "execution_count": 25,
     "metadata": {},
     "output_type": "execute_result"
    }
   ],
   "source": [
    "y_2 = clf1.predict(x_2)\n",
    "\n",
    "y_2"
   ]
  },
  {
   "cell_type": "code",
   "execution_count": null,
   "id": "d3d026b1",
   "metadata": {},
   "outputs": [],
   "source": []
  }
 ],
 "metadata": {
  "kernelspec": {
   "display_name": "Python [conda env:PythonAdv] *",
   "language": "python",
   "name": "conda-env-PythonAdv-py"
  },
  "language_info": {
   "codemirror_mode": {
    "name": "ipython",
    "version": 3
   },
   "file_extension": ".py",
   "mimetype": "text/x-python",
   "name": "python",
   "nbconvert_exporter": "python",
   "pygments_lexer": "ipython3",
   "version": "3.6.13"
  }
 },
 "nbformat": 4,
 "nbformat_minor": 5
}
