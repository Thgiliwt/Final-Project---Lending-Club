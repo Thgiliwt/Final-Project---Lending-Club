{
 "cells": [
  {
   "cell_type": "code",
   "execution_count": 1,
   "id": "6d393af5",
   "metadata": {},
   "outputs": [],
   "source": [
    "import pandas as pd\n",
    "import numpy as np\n",
    "\n",
    "from sklearn.preprocessing import StandardScaler\n",
    "from sklearn.preprocessing import MinMaxScaler\n",
    "from sklearn.model_selection import train_test_split\n",
    "from sklearn.model_selection import GridSearchCV,StratifiedKFold\n",
    "from sklearn.ensemble import RandomForestClassifier\n",
    "from sklearn.linear_model import LogisticRegression\n",
    "from sklearn.neighbors import KNeighborsClassifier\n",
    "from sklearn.svm import SVC\n",
    "from sklearn import tree\n",
    "from sklearn.tree import export_graphviz\n",
    "#from sklearn.externals.six import StringIO\n",
    "from sklearn.linear_model import Perceptron\n",
    "from sklearn.neural_network import MLPClassifier\n",
    "from sklearn.metrics import  precision_recall_curve, roc_auc_score, confusion_matrix, accuracy_score, recall_score, precision_score, f1_score,auc, roc_curve, plot_confusion_matrix\n",
    "\n",
    "#from category_encoders import BinaryEncoder\n",
    "from IPython.display import Image\n",
    "#import pydotplus\n",
    "import matplotlib.pyplot as plt\n",
    "%matplotlib inline\n",
    "# color = sns.color_palette()\n"
   ]
  },
  {
   "cell_type": "code",
   "execution_count": 2,
   "id": "ae5d784d",
   "metadata": {},
   "outputs": [],
   "source": [
    "import seaborn as sns"
   ]
  },
  {
   "cell_type": "code",
   "execution_count": 5,
   "id": "f6d73b4a",
   "metadata": {},
   "outputs": [],
   "source": [
    "#load data and displaying the dataset\n",
    "data_w = pd.read_csv(\"../Resources/cleaned_loan.csv\")"
   ]
  },
  {
   "cell_type": "code",
   "execution_count": 6,
   "id": "b7cff188",
   "metadata": {
    "scrolled": true
   },
   "outputs": [
    {
     "data": {
      "text/html": [
       "<div>\n",
       "<style scoped>\n",
       "    .dataframe tbody tr th:only-of-type {\n",
       "        vertical-align: middle;\n",
       "    }\n",
       "\n",
       "    .dataframe tbody tr th {\n",
       "        vertical-align: top;\n",
       "    }\n",
       "\n",
       "    .dataframe thead th {\n",
       "        text-align: right;\n",
       "    }\n",
       "</style>\n",
       "<table border=\"1\" class=\"dataframe\">\n",
       "  <thead>\n",
       "    <tr style=\"text-align: right;\">\n",
       "      <th></th>\n",
       "      <th>loan_amnt</th>\n",
       "      <th>int_rate</th>\n",
       "      <th>installment</th>\n",
       "      <th>emp_length</th>\n",
       "      <th>annual_inc</th>\n",
       "      <th>loan_status</th>\n",
       "      <th>dti</th>\n",
       "      <th>delinq_2yrs</th>\n",
       "      <th>inq_last_6mths</th>\n",
       "      <th>open_acc</th>\n",
       "      <th>pub_rec</th>\n",
       "      <th>revol_bal</th>\n",
       "      <th>revol_util</th>\n",
       "      <th>total_acc</th>\n",
       "      <th>pub_rec_bankruptcies</th>\n",
       "      <th>term</th>\n",
       "      <th>home_ownership</th>\n",
       "      <th>verification_status</th>\n",
       "      <th>purpose</th>\n",
       "    </tr>\n",
       "  </thead>\n",
       "  <tbody>\n",
       "    <tr>\n",
       "      <th>46997</th>\n",
       "      <td>35000</td>\n",
       "      <td>6.08</td>\n",
       "      <td>1066.04</td>\n",
       "      <td>2</td>\n",
       "      <td>353000.00</td>\n",
       "      <td>1</td>\n",
       "      <td>12.09</td>\n",
       "      <td>0</td>\n",
       "      <td>1</td>\n",
       "      <td>16</td>\n",
       "      <td>0</td>\n",
       "      <td>231984</td>\n",
       "      <td>34.3</td>\n",
       "      <td>28</td>\n",
       "      <td>0</td>\n",
       "      <td>0</td>\n",
       "      <td>1</td>\n",
       "      <td>1</td>\n",
       "      <td>2</td>\n",
       "    </tr>\n",
       "    <tr>\n",
       "      <th>46998</th>\n",
       "      <td>20000</td>\n",
       "      <td>11.99</td>\n",
       "      <td>664.20</td>\n",
       "      <td>10</td>\n",
       "      <td>14000.00</td>\n",
       "      <td>1</td>\n",
       "      <td>37.39</td>\n",
       "      <td>0</td>\n",
       "      <td>0</td>\n",
       "      <td>21</td>\n",
       "      <td>1</td>\n",
       "      <td>10719</td>\n",
       "      <td>30.2</td>\n",
       "      <td>29</td>\n",
       "      <td>1</td>\n",
       "      <td>0</td>\n",
       "      <td>1</td>\n",
       "      <td>0</td>\n",
       "      <td>2</td>\n",
       "    </tr>\n",
       "    <tr>\n",
       "      <th>46999</th>\n",
       "      <td>7400</td>\n",
       "      <td>17.09</td>\n",
       "      <td>264.17</td>\n",
       "      <td>0</td>\n",
       "      <td>49900.00</td>\n",
       "      <td>1</td>\n",
       "      <td>27.20</td>\n",
       "      <td>0</td>\n",
       "      <td>1</td>\n",
       "      <td>13</td>\n",
       "      <td>0</td>\n",
       "      <td>5422</td>\n",
       "      <td>25.3</td>\n",
       "      <td>34</td>\n",
       "      <td>0</td>\n",
       "      <td>0</td>\n",
       "      <td>1</td>\n",
       "      <td>1</td>\n",
       "      <td>2</td>\n",
       "    </tr>\n",
       "    <tr>\n",
       "      <th>47000</th>\n",
       "      <td>10000</td>\n",
       "      <td>17.09</td>\n",
       "      <td>249.01</td>\n",
       "      <td>10</td>\n",
       "      <td>26000.00</td>\n",
       "      <td>0</td>\n",
       "      <td>16.45</td>\n",
       "      <td>0</td>\n",
       "      <td>1</td>\n",
       "      <td>6</td>\n",
       "      <td>0</td>\n",
       "      <td>13766</td>\n",
       "      <td>49.9</td>\n",
       "      <td>6</td>\n",
       "      <td>0</td>\n",
       "      <td>1</td>\n",
       "      <td>3</td>\n",
       "      <td>0</td>\n",
       "      <td>2</td>\n",
       "    </tr>\n",
       "    <tr>\n",
       "      <th>47001</th>\n",
       "      <td>20000</td>\n",
       "      <td>12.62</td>\n",
       "      <td>670.23</td>\n",
       "      <td>10</td>\n",
       "      <td>50000.00</td>\n",
       "      <td>0</td>\n",
       "      <td>33.94</td>\n",
       "      <td>0</td>\n",
       "      <td>2</td>\n",
       "      <td>12</td>\n",
       "      <td>0</td>\n",
       "      <td>7966</td>\n",
       "      <td>28.7</td>\n",
       "      <td>16</td>\n",
       "      <td>0</td>\n",
       "      <td>0</td>\n",
       "      <td>2</td>\n",
       "      <td>0</td>\n",
       "      <td>2</td>\n",
       "    </tr>\n",
       "    <tr>\n",
       "      <th>47002</th>\n",
       "      <td>27950</td>\n",
       "      <td>17.09</td>\n",
       "      <td>997.75</td>\n",
       "      <td>9</td>\n",
       "      <td>235000.00</td>\n",
       "      <td>1</td>\n",
       "      <td>25.50</td>\n",
       "      <td>0</td>\n",
       "      <td>1</td>\n",
       "      <td>20</td>\n",
       "      <td>0</td>\n",
       "      <td>118813</td>\n",
       "      <td>81.2</td>\n",
       "      <td>46</td>\n",
       "      <td>0</td>\n",
       "      <td>0</td>\n",
       "      <td>1</td>\n",
       "      <td>1</td>\n",
       "      <td>1</td>\n",
       "    </tr>\n",
       "    <tr>\n",
       "      <th>47003</th>\n",
       "      <td>30000</td>\n",
       "      <td>17.09</td>\n",
       "      <td>1070.93</td>\n",
       "      <td>6</td>\n",
       "      <td>88000.00</td>\n",
       "      <td>1</td>\n",
       "      <td>21.16</td>\n",
       "      <td>0</td>\n",
       "      <td>3</td>\n",
       "      <td>18</td>\n",
       "      <td>2</td>\n",
       "      <td>22979</td>\n",
       "      <td>32.9</td>\n",
       "      <td>29</td>\n",
       "      <td>1</td>\n",
       "      <td>0</td>\n",
       "      <td>3</td>\n",
       "      <td>1</td>\n",
       "      <td>2</td>\n",
       "    </tr>\n",
       "    <tr>\n",
       "      <th>47004</th>\n",
       "      <td>18000</td>\n",
       "      <td>14.08</td>\n",
       "      <td>615.90</td>\n",
       "      <td>0</td>\n",
       "      <td>44000.00</td>\n",
       "      <td>0</td>\n",
       "      <td>20.38</td>\n",
       "      <td>0</td>\n",
       "      <td>2</td>\n",
       "      <td>18</td>\n",
       "      <td>0</td>\n",
       "      <td>17906</td>\n",
       "      <td>23.7</td>\n",
       "      <td>21</td>\n",
       "      <td>0</td>\n",
       "      <td>0</td>\n",
       "      <td>1</td>\n",
       "      <td>1</td>\n",
       "      <td>1</td>\n",
       "    </tr>\n",
       "    <tr>\n",
       "      <th>47005</th>\n",
       "      <td>12000</td>\n",
       "      <td>12.62</td>\n",
       "      <td>270.71</td>\n",
       "      <td>10</td>\n",
       "      <td>89625.39</td>\n",
       "      <td>1</td>\n",
       "      <td>17.61</td>\n",
       "      <td>0</td>\n",
       "      <td>0</td>\n",
       "      <td>10</td>\n",
       "      <td>0</td>\n",
       "      <td>18601</td>\n",
       "      <td>90.3</td>\n",
       "      <td>37</td>\n",
       "      <td>0</td>\n",
       "      <td>1</td>\n",
       "      <td>1</td>\n",
       "      <td>0</td>\n",
       "      <td>2</td>\n",
       "    </tr>\n",
       "    <tr>\n",
       "      <th>47006</th>\n",
       "      <td>14000</td>\n",
       "      <td>13.59</td>\n",
       "      <td>475.71</td>\n",
       "      <td>2</td>\n",
       "      <td>80000.00</td>\n",
       "      <td>1</td>\n",
       "      <td>1.35</td>\n",
       "      <td>0</td>\n",
       "      <td>1</td>\n",
       "      <td>11</td>\n",
       "      <td>0</td>\n",
       "      <td>1461</td>\n",
       "      <td>4.1</td>\n",
       "      <td>21</td>\n",
       "      <td>0</td>\n",
       "      <td>0</td>\n",
       "      <td>2</td>\n",
       "      <td>1</td>\n",
       "      <td>0</td>\n",
       "    </tr>\n",
       "  </tbody>\n",
       "</table>\n",
       "</div>"
      ],
      "text/plain": [
       "       loan_amnt  int_rate  installment  emp_length  annual_inc  loan_status  \\\n",
       "46997      35000      6.08      1066.04           2   353000.00            1   \n",
       "46998      20000     11.99       664.20          10    14000.00            1   \n",
       "46999       7400     17.09       264.17           0    49900.00            1   \n",
       "47000      10000     17.09       249.01          10    26000.00            0   \n",
       "47001      20000     12.62       670.23          10    50000.00            0   \n",
       "47002      27950     17.09       997.75           9   235000.00            1   \n",
       "47003      30000     17.09      1070.93           6    88000.00            1   \n",
       "47004      18000     14.08       615.90           0    44000.00            0   \n",
       "47005      12000     12.62       270.71          10    89625.39            1   \n",
       "47006      14000     13.59       475.71           2    80000.00            1   \n",
       "\n",
       "         dti  delinq_2yrs  inq_last_6mths  open_acc  pub_rec  revol_bal  \\\n",
       "46997  12.09            0               1        16        0     231984   \n",
       "46998  37.39            0               0        21        1      10719   \n",
       "46999  27.20            0               1        13        0       5422   \n",
       "47000  16.45            0               1         6        0      13766   \n",
       "47001  33.94            0               2        12        0       7966   \n",
       "47002  25.50            0               1        20        0     118813   \n",
       "47003  21.16            0               3        18        2      22979   \n",
       "47004  20.38            0               2        18        0      17906   \n",
       "47005  17.61            0               0        10        0      18601   \n",
       "47006   1.35            0               1        11        0       1461   \n",
       "\n",
       "       revol_util  total_acc  pub_rec_bankruptcies  term  home_ownership  \\\n",
       "46997        34.3         28                     0     0               1   \n",
       "46998        30.2         29                     1     0               1   \n",
       "46999        25.3         34                     0     0               1   \n",
       "47000        49.9          6                     0     1               3   \n",
       "47001        28.7         16                     0     0               2   \n",
       "47002        81.2         46                     0     0               1   \n",
       "47003        32.9         29                     1     0               3   \n",
       "47004        23.7         21                     0     0               1   \n",
       "47005        90.3         37                     0     1               1   \n",
       "47006         4.1         21                     0     0               2   \n",
       "\n",
       "       verification_status  purpose  \n",
       "46997                    1        2  \n",
       "46998                    0        2  \n",
       "46999                    1        2  \n",
       "47000                    0        2  \n",
       "47001                    0        2  \n",
       "47002                    1        1  \n",
       "47003                    1        2  \n",
       "47004                    1        1  \n",
       "47005                    0        2  \n",
       "47006                    1        0  "
      ]
     },
     "execution_count": 6,
     "metadata": {},
     "output_type": "execute_result"
    }
   ],
   "source": [
    "data_w.tail(10)"
   ]
  },
  {
   "cell_type": "code",
   "execution_count": 7,
   "id": "fcfbbaff",
   "metadata": {},
   "outputs": [],
   "source": [
    "data = data_w[['loan_amnt','int_rate','emp_length','annual_inc','loan_status','home_ownership','purpose','term']]"
   ]
  },
  {
   "cell_type": "code",
   "execution_count": 8,
   "id": "bcc8745c",
   "metadata": {},
   "outputs": [],
   "source": [
    "seed = 41\n",
    "#make a copy of the dataset\n",
    "data_lr = data.copy()\n",
    "\n",
    "#dividing the dataset in train(70%) and test(30%)\n",
    "train_set_lr, test_set_lr = train_test_split(data_lr, test_size = 0.3, random_state=seed)\n",
    "X_train_lr = train_set_lr.drop(['loan_status'], axis = 1)\n",
    "y_train_lr = train_set_lr['loan_status']\n",
    "\n",
    "X_test_lr = test_set_lr.drop(['loan_status'], axis = 1)\n",
    "y_test_lr = test_set_lr['loan_status']"
   ]
  },
  {
   "cell_type": "code",
   "execution_count": 9,
   "id": "960d2339",
   "metadata": {},
   "outputs": [],
   "source": [
    "#Normalizing the train and test data\n",
    "scaler_lr = MinMaxScaler()\n",
    "features_names = X_train_lr.columns\n",
    "X_train_lr = scaler_lr.fit_transform(X_train_lr)\n",
    "X_train_lr = pd.DataFrame(X_train_lr, columns = features_names)\n",
    "X_test_lr = scaler_lr.transform(X_test_lr)\n",
    "X_test_lr = pd.DataFrame(X_test_lr, columns = features_names)"
   ]
  },
  {
   "cell_type": "code",
   "execution_count": 19,
   "id": "54a313db",
   "metadata": {
    "scrolled": false
   },
   "outputs": [
    {
     "name": "stderr",
     "output_type": "stream",
     "text": [
      "/Users/xiaokunyu/opt/anaconda3/envs/PythonAdv/lib/python3.6/site-packages/seaborn/_decorators.py:43: FutureWarning: Pass the following variables as keyword args: x, y. From version 0.12, the only valid positional argument will be `data`, and passing other arguments without an explicit keyword will result in an error or misinterpretation.\n",
      "  FutureWarning\n"
     ]
    },
    {
     "data": {
      "text/plain": [
       "Text(0.5, 1.0, 'Percentage of people can/can not fully paid the loan')"
      ]
     },
     "execution_count": 19,
     "metadata": {},
     "output_type": "execute_result"
    },
    {
     "data": {
      "image/png": "[encoded data removed]",
      "text/plain": [
       "<Figure size 720x432 with 1 Axes>"
      ]
     },
     "metadata": {},
     "output_type": "display_data"
    }
   ],
   "source": [
    "#find the class weight for y_train\n",
    "plt.figure(figsize=(10,6))\n",
    "g = sns.barplot(data_lr['loan_status'], data_lr['loan_status'], palette='Set1', estimator=lambda x: len(x) / len(data) )\n",
    "\n",
    "#Anotating the graph\n",
    "for p in g.patches:\n",
    "        width, height = p.get_width(), p.get_height()\n",
    "        x, y = p.get_xy() \n",
    "        g.text(x+width/2, \n",
    "               y+height, \n",
    "               '{:.0%}'.format(height), \n",
    "               horizontalalignment='center',fontsize=15)\n",
    "\n",
    "#Setting the labels\n",
    "plt.xlabel('Loan Status', fontsize=14)\n",
    "plt.ylabel('Precentage', fontsize=14)\n",
    "plt.title('Percentage of people can/can not fully paid the loan', fontsize=16)"
   ]
  },
  {
   "cell_type": "code",
   "execution_count": 20,
   "id": "1a2f486e",
   "metadata": {},
   "outputs": [],
   "source": [
    "# 0 means the people cannot fully paid the loan on time\n",
    "# 1 means the people can fully paid the loan on time"
   ]
  },
  {
   "cell_type": "code",
   "execution_count": 21,
   "id": "ed4876bd",
   "metadata": {},
   "outputs": [
    {
     "name": "stdout",
     "output_type": "stream",
     "text": [
      "Fitting 5 folds for each of 200 candidates, totalling 1000 fits\n"
     ]
    },
    {
     "name": "stderr",
     "output_type": "stream",
     "text": [
      "/Users/xiaokunyu/opt/anaconda3/envs/PythonAdv/lib/python3.6/site-packages/seaborn/_decorators.py:43: FutureWarning: Pass the following variables as keyword args: x, y. From version 0.12, the only valid positional argument will be `data`, and passing other arguments without an explicit keyword will result in an error or misinterpretation.\n",
      "  FutureWarning\n"
     ]
    },
    {
     "data": {
      "text/plain": [
       "Text(0.5, 1.0, 'Scoring for different class weights')"
      ]
     },
     "execution_count": 21,
     "metadata": {},
     "output_type": "execute_result"
    },
    {
     "data": {
      "image/png": "[encoded data removed]",
      "text/plain": [
       "<Figure size 864x576 with 1 Axes>"
      ]
     },
     "metadata": {},
     "output_type": "display_data"
    }
   ],
   "source": [
    "lr = LogisticRegression(solver='liblinear')\n",
    "\n",
    "#Setting the range for class weights\n",
    "weights = np.linspace(0.0,0.99,200)\n",
    "\n",
    "#Creating a dictionary grid for grid search\n",
    "param_grid = {'class_weight': [{0:x, 1:1.0-x} for x in weights]}\n",
    "\n",
    "#Fitting grid search to the train data with 5 folds\n",
    "gridsearch = GridSearchCV(estimator= lr, \n",
    "                          param_grid= param_grid,\n",
    "                          cv=StratifiedKFold(), \n",
    "                          n_jobs=-1, \n",
    "                          scoring='f1', \n",
    "                          verbose=2).fit(X_train_lr,y_train_lr)\n",
    "\n",
    "#Ploting the score for different values of weight\n",
    "sns.set_style('whitegrid')\n",
    "plt.figure(figsize=(12,8))\n",
    "weigh_data = pd.DataFrame({ 'score': gridsearch.cv_results_['mean_test_score'], 'weight': (1- weights)})\n",
    "sns.lineplot(weigh_data['weight'], weigh_data['score'])\n",
    "plt.xlabel('Weight for class 1')\n",
    "plt.ylabel('F1 score')\n",
    "plt.xticks([round(i/10,1) for i in range(0,11,1)])\n",
    "plt.title('Scoring for different class weights', fontsize=24)"
   ]
  },
  {
   "cell_type": "code",
   "execution_count": 10,
   "id": "0da49c3a",
   "metadata": {},
   "outputs": [
    {
     "data": {
      "text/plain": [
       "LogisticRegression(class_weight={0: 0.6, 1: 0.4}, multi_class='ovr', n_jobs=1,\n",
       "                   random_state=41, solver='liblinear')"
      ]
     },
     "execution_count": 10,
     "metadata": {},
     "output_type": "execute_result"
    }
   ],
   "source": [
    "classifier = LogisticRegression(C=1.0, class_weight={0: 0.6, 1: 0.4}, dual=False, fit_intercept=True, intercept_scaling=1, max_iter=100,multi_class='ovr',n_jobs=1,penalty='l2',random_state=41,solver='liblinear',tol=0.0001,verbose=0,warm_start=False)\n",
    "classifier"
   ]
  },
  {
   "cell_type": "code",
   "execution_count": 11,
   "id": "65464e73",
   "metadata": {},
   "outputs": [
    {
     "data": {
      "text/plain": [
       "LogisticRegression(class_weight={0: 0.6, 1: 0.4}, multi_class='ovr', n_jobs=1,\n",
       "                   random_state=41, solver='liblinear')"
      ]
     },
     "execution_count": 11,
     "metadata": {},
     "output_type": "execute_result"
    }
   ],
   "source": [
    "classifier.fit(X_train_lr, y_train_lr)"
   ]
  },
  {
   "cell_type": "code",
   "execution_count": 12,
   "id": "034285e6",
   "metadata": {},
   "outputs": [
    {
     "name": "stdout",
     "output_type": "stream",
     "text": [
      "Training Data Score: 0.848863360077802\n",
      "Testing Data Score: 0.8477628873289371\n"
     ]
    }
   ],
   "source": [
    "print(f\"Training Data Score: {classifier.score(X_train_lr, y_train_lr)}\")\n",
    "print(f\"Testing Data Score: {classifier.score(X_test_lr, y_test_lr)}\")"
   ]
  },
  {
   "cell_type": "code",
   "execution_count": 13,
   "id": "11e78c2c",
   "metadata": {},
   "outputs": [
    {
     "name": "stdout",
     "output_type": "stream",
     "text": [
      "The f1 score for the testing data: 0.9167280766396464\n"
     ]
    },
    {
     "data": {
      "image/png": "[encoded data removed]",
      "text/plain": [
       "<Figure size 432x432 with 1 Axes>"
      ]
     },
     "metadata": {
      "needs_background": "light"
     },
     "output_type": "display_data"
    }
   ],
   "source": [
    "from sklearn.metrics import f1_score, accuracy_score, confusion_matrix\n",
    "\n",
    "# Predicting on the test data\n",
    "pred_test = classifier.predict(X_test_lr)\n",
    "\n",
    "#Calculating and printing the f1 score \n",
    "f1_test = f1_score(y_test_lr, pred_test)\n",
    "print('The f1 score for the testing data:', f1_test)\n",
    "\n",
    "# Function to create a confusion matrix \n",
    "def conf_matrix(y_test_lr, pred_test):    \n",
    "    \n",
    "    # Creating a confusion matrix\n",
    "    con_mat = confusion_matrix(y_test_lr, pred_test)\n",
    "    con_mat = pd.DataFrame(con_mat, range(2), range(2))\n",
    "   \n",
    "    #Ploting the confusion matrix\n",
    "    plt.figure(figsize=(6,6))\n",
    "    sns.set(font_scale=1.5) \n",
    "    sns.heatmap(con_mat, annot=True, annot_kws={\"size\": 16}, fmt='g', cmap='Blues', cbar=False)\n",
    "    \n",
    "#Calling function \n",
    "conf_matrix(y_test_lr, pred_test)"
   ]
  },
  {
   "cell_type": "code",
   "execution_count": 14,
   "id": "9c1895b0",
   "metadata": {},
   "outputs": [
    {
     "name": "stdout",
     "output_type": "stream",
     "text": [
      "              precision    recall  f1-score   support\n",
      "\n",
      "           0       0.39      0.07      0.11      2067\n",
      "           1       0.86      0.98      0.92     12036\n",
      "\n",
      "    accuracy                           0.85     14103\n",
      "   macro avg       0.62      0.52      0.52     14103\n",
      "weighted avg       0.79      0.85      0.80     14103\n",
      "\n"
     ]
    }
   ],
   "source": [
    "#print the classification report\n",
    "from sklearn.metrics import classification_report\n",
    "print(classification_report(y_test_lr,pred_test))"
   ]
  },
  {
   "cell_type": "code",
   "execution_count": 39,
   "id": "33a3c90a",
   "metadata": {},
   "outputs": [
    {
     "data": {
      "text/plain": [
       "0"
      ]
     },
     "execution_count": 39,
     "metadata": {},
     "output_type": "execute_result"
    }
   ],
   "source": [
    "#test an extreme situation\n",
    "#feature 'loan_amnt','int_rate','emp_length','annual_inc','home_ownership','purpose','term'\n",
    "\n",
    "user_input=[40000,31,0,33,0,12,0]\n",
    "result = classifier.predict([user_input])[0]\n",
    "result"
   ]
  },
  {
   "cell_type": "code",
   "execution_count": 17,
   "id": "a87bea6c",
   "metadata": {},
   "outputs": [],
   "source": [
    "import pickle\n",
    "pickle.dump(classifier, open('lrmodel.pkl','wb'))"
   ]
  },
  {
   "cell_type": "code",
   "execution_count": null,
   "id": "e7c604a1",
   "metadata": {},
   "outputs": [],
   "source": []
  }
 ],
 "metadata": {
  "kernelspec": {
   "display_name": "Python [conda env:PythonAdv]",
   "language": "python",
   "name": "conda-env-PythonAdv-py"
  },
  "language_info": {
   "codemirror_mode": {
    "name": "ipython",
    "version": 3
   },
   "file_extension": ".py",
   "mimetype": "text/x-python",
   "name": "python",
   "nbconvert_exporter": "python",
   "pygments_lexer": "ipython3",
   "version": "3.6.13"
  }
 },
 "nbformat": 4,
 "nbformat_minor": 5
}
